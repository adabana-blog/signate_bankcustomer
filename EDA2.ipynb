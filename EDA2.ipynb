{
 "cells": [
  {
   "cell_type": "code",
   "execution_count": 1,
   "metadata": {},
   "outputs": [],
   "source": [
    "import numpy as np\n",
    "import pandas as pd\n",
    "import matplotlib.pyplot as plt\n",
    "import seaborn as sns\n",
    "from sklearn.model_selection import StratifiedKFold,KFold"
   ]
  },
  {
   "cell_type": "code",
   "execution_count": 2,
   "metadata": {},
   "outputs": [],
   "source": [
    "from sklearn.preprocessing import LabelEncoder"
   ]
  },
  {
   "cell_type": "code",
   "execution_count": 3,
   "metadata": {},
   "outputs": [],
   "source": [
    "train_linear = pd.read_csv(\"../../data/signate-bankcustomer/train_linear2.csv\")\n",
    "test_linear = pd.read_csv(\"../../data/signate-bankcustomer/test_linear2.csv\")\n",
    "\n",
    "train_tree= pd.read_csv(\"../../data/signate-bankcustomer/train_tree2.csv\")\n",
    "test_tree = pd.read_csv(\"../../data/signate-bankcustomer/test_tree2.csv\")"
   ]
  },
  {
   "cell_type": "code",
   "execution_count": 4,
   "metadata": {},
   "outputs": [],
   "source": [
    "train_test_linear = pd.concat([train_linear,test_linear],axis=0)\n",
    "train_test_tree = pd.concat([train_tree,test_tree],axis=0)"
   ]
  },
  {
   "cell_type": "code",
   "execution_count": 5,
   "metadata": {},
   "outputs": [
    {
     "name": "stdout",
     "output_type": "stream",
     "text": [
      "<class 'pandas.core.frame.DataFrame'>\n",
      "Int64Index: 45150 entries, 0 to 18049\n",
      "Data columns (total 61 columns):\n",
      " #   Column             Non-Null Count  Dtype  \n",
      "---  ------             --------------  -----  \n",
      " 0   default            45150 non-null  int64  \n",
      " 1   housing            45150 non-null  int64  \n",
      " 2   loan               45150 non-null  int64  \n",
      " 3   poutcome           45150 non-null  int64  \n",
      " 4   edu_unknown_flg    45150 non-null  int64  \n",
      " 5   balance_minus_flg  45150 non-null  int64  \n",
      " 6   con_unknown_flg    45150 non-null  int64  \n",
      " 7   duration_zero_flg  45150 non-null  int64  \n",
      " 8   pdays_flg          45150 non-null  int64  \n",
      " 9   pou_unknown_flg    45150 non-null  int64  \n",
      " 10  age                45150 non-null  float64\n",
      " 11  balance            45150 non-null  float64\n",
      " 12  day                45150 non-null  float64\n",
      " 13  month+day          45150 non-null  float64\n",
      " 14  duration_sc        45150 non-null  float64\n",
      " 15  pdays_sc           45150 non-null  float64\n",
      " 16  job_1250           45150 non-null  int64  \n",
      " 17  job_1306           45150 non-null  int64  \n",
      " 18  job_1661           45150 non-null  int64  \n",
      " 19  job_1884           45150 non-null  int64  \n",
      " 20  job_1890           45150 non-null  int64  \n",
      " 21  job_4192           45150 non-null  int64  \n",
      " 22  job_5339           45150 non-null  int64  \n",
      " 23  job_583            45150 non-null  int64  \n",
      " 24  job_8128           45150 non-null  int64  \n",
      " 25  job_8873           45150 non-null  int64  \n",
      " 26  marital_1          45150 non-null  int64  \n",
      " 27  marital_2          45150 non-null  int64  \n",
      " 28  contact_1          45150 non-null  int64  \n",
      " 29  contact_2          45150 non-null  int64  \n",
      " 30  campaign_2         45150 non-null  int64  \n",
      " 31  campaign_3         45150 non-null  int64  \n",
      " 32  campaign_4         45150 non-null  int64  \n",
      " 33  previous_1         45150 non-null  int64  \n",
      " 34  previous_2         45150 non-null  int64  \n",
      " 35  previous_3         45150 non-null  int64  \n",
      " 36  month_10           45150 non-null  int64  \n",
      " 37  month_11           45150 non-null  int64  \n",
      " 38  month_2            45150 non-null  int64  \n",
      " 39  month_3            45150 non-null  int64  \n",
      " 40  month_4            45150 non-null  int64  \n",
      " 41  month_5            45150 non-null  int64  \n",
      " 42  month_6            45150 non-null  int64  \n",
      " 43  month_7            45150 non-null  int64  \n",
      " 44  month_8            45150 non-null  int64  \n",
      " 45  month_9            45150 non-null  int64  \n",
      " 46  education_1771     45150 non-null  int64  \n",
      " 47  education_26754    45150 non-null  int64  \n",
      " 48  education_5560     45150 non-null  int64  \n",
      " 49  poutcome_1         45150 non-null  int64  \n",
      " 50  poutcome_2         45150 non-null  int64  \n",
      " 51  prob_1             45150 non-null  float64\n",
      " 52  prob_2             45150 non-null  float64\n",
      " 53  prob_3             45150 non-null  float64\n",
      " 54  prob_4             45150 non-null  float64\n",
      " 55  prob_5             45150 non-null  float64\n",
      " 56  prob_6             45150 non-null  float64\n",
      " 57  prob_7             45150 non-null  float64\n",
      " 58  prob_8             45150 non-null  float64\n",
      " 59  prob_9             45150 non-null  float64\n",
      " 60  y                  27100 non-null  float64\n",
      "dtypes: float64(16), int64(45)\n",
      "memory usage: 21.4 MB\n"
     ]
    }
   ],
   "source": [
    "train_test_linear.info()"
   ]
  },
  {
   "cell_type": "code",
   "execution_count": 6,
   "metadata": {},
   "outputs": [],
   "source": [
    "#k-meansでクラスタ分析をする\n",
    "#人物の属性を表すカラムと銀行側の行動を表すカラムを分けてクラスタ分析を行う\n",
    "status_column = [\n",
    "                 \"default\"\n",
    "                 ,\"housing\"\n",
    "                 ,\"loan\"\n",
    "                 ,\"balance_minus_flg\"\n",
    "                 ,\"edu_unknown_flg\"\n",
    "                 ,\"con_unknown_flg\"\n",
    "                 ,\"age\"\n",
    "                 ,\"balance\"\n",
    "                 ,\"job_1250\"\n",
    "                 ,\"job_1306\"\n",
    "                 ,\"job_1661\"\n",
    "                 ,\"job_1884\"\n",
    "                 ,\"job_1890\"\n",
    "                 ,\"job_4192\"\n",
    "                 ,\"job_5339\"\n",
    "                 ,\"job_583\"\n",
    "                 ,\"job_8128\"\n",
    "                 ,\"job_8873\"\n",
    "                 ,\"marital_1\"\n",
    "                 ,\"marital_2\"\n",
    "                 ,\"contact_1\"\n",
    "                 ,\"contact_2\"\n",
    "                 ,\"education_1771\"\n",
    "                 ,\"education_26754\"\n",
    "                 ,\"education_5560\"\n",
    "                ]"
   ]
  },
  {
   "cell_type": "code",
   "execution_count": 7,
   "metadata": {},
   "outputs": [],
   "source": [
    "behavier_column = [\"poutcome\"\n",
    "                   ,\"duration_zero_flg\"\n",
    "                   ,\"pou_unknown_flg\"\n",
    "                   ,\"pdays_flg\"\n",
    "                   ,\"month+day\"\n",
    "                   ,\"duration_sc\"\n",
    "                   ,\"pdays_sc\"\n",
    "                   ,\"campaign_2\"\n",
    "                   ,\"campaign_3\"\n",
    "                   ,\"campaign_4\"\n",
    "                   ,\"previous_1\"\n",
    "                   ,\"previous_2\"\n",
    "                   ,\"previous_3\"\n",
    "                   ,\"poutcome_1\"\n",
    "                   ,\"poutcome_2\"\n",
    "                  ]"
   ]
  },
  {
   "cell_type": "code",
   "execution_count": 8,
   "metadata": {},
   "outputs": [
    {
     "data": {
      "text/plain": [
       "<matplotlib.axes._subplots.AxesSubplot at 0x7f2ee1540130>"
      ]
     },
     "execution_count": 8,
     "metadata": {},
     "output_type": "execute_result"
    },
    {
     "data": {
      "image/png": "[encoded data removed]",
      "text/plain": [
       "<Figure size 432x288 with 1 Axes>"
      ]
     },
     "metadata": {
      "needs_background": "light"
     },
     "output_type": "display_data"
    }
   ],
   "source": [
    "#クラスタを何個に分けるかを決定するために、クラスタ数を１つずつ増やしながら中心までの距離を図示する\n",
    "from sklearn.cluster import MiniBatchKMeans\n",
    "sum_dist = []\n",
    "for i in range(1,10):\n",
    "    kmeans = MiniBatchKMeans(n_clusters=i,random_state=0)\n",
    "    kmeans.fit(train_test_linear[status_column])\n",
    "\n",
    "    distances = kmeans.transform(train_test_linear[status_column])\n",
    "    \n",
    "    sum_dist.append(distances.min(axis=1).sum())\n",
    "\n",
    "sns.scatterplot(range(1,10),sum_dist)"
   ]
  },
  {
   "cell_type": "code",
   "execution_count": 9,
   "metadata": {},
   "outputs": [],
   "source": [
    "from sklearn.cluster import MiniBatchKMeans\n",
    "\n",
    "kmeans = MiniBatchKMeans(n_clusters=8,random_state=0)\n",
    "\n",
    "kmeans.fit(train_test_linear[status_column])\n",
    "\n",
    "distances = kmeans.transform(train_test_linear[status_column])\n",
    "\n",
    "clusters = kmeans.predict(train_test_linear[status_column])\n",
    "distances = kmeans.transform(train_test_linear[status_column])\n",
    "\n",
    "train_test_linear['status_cluster'] = pd.Series(clusters)\n",
    "train_test_linear['status_distance'] = pd.Series(distances.min(axis=1))"
   ]
  },
  {
   "cell_type": "code",
   "execution_count": 10,
   "metadata": {},
   "outputs": [],
   "source": [
    "train_linear = train_test_linear[:27100]\n",
    "test_linear = train_test_linear[27100:]"
   ]
  },
  {
   "cell_type": "code",
   "execution_count": 11,
   "metadata": {},
   "outputs": [
    {
     "data": {
      "text/plain": [
       "<matplotlib.axes._subplots.AxesSubplot at 0x7f2ee4a70820>"
      ]
     },
     "execution_count": 11,
     "metadata": {},
     "output_type": "execute_result"
    },
    {
     "data": {
      "image/png": "[encoded data removed]",
      "text/plain": [
       "<Figure size 432x288 with 1 Axes>"
      ]
     },
     "metadata": {
      "needs_background": "light"
     },
     "output_type": "display_data"
    }
   ],
   "source": [
    "train_linear.groupby([\"status_cluster\"])[\"y\"].mean().plot(kind=\"bar\")"
   ]
  },
  {
   "cell_type": "code",
   "execution_count": 12,
   "metadata": {},
   "outputs": [
    {
     "data": {
      "text/plain": [
       "<matplotlib.axes._subplots.AxesSubplot at 0x7f2ee49e0f10>"
      ]
     },
     "execution_count": 12,
     "metadata": {},
     "output_type": "execute_result"
    },
    {
     "data": {
      "image/png": "[encoded data removed]",
      "text/plain": [
       "<Figure size 432x288 with 1 Axes>"
      ]
     },
     "metadata": {
      "needs_background": "light"
     },
     "output_type": "display_data"
    }
   ],
   "source": [
    "from sklearn.cluster import MiniBatchKMeans\n",
    "sum_dist = []\n",
    "for i in range(1,10):\n",
    "    kmeans = MiniBatchKMeans(n_clusters=i,random_state=0)\n",
    "    kmeans.fit(train_test_linear[behavier_column])\n",
    "\n",
    "    distances = kmeans.transform(train_test_linear[behavier_column])\n",
    "    \n",
    "    sum_dist.append(distances.min(axis=1).sum())\n",
    "\n",
    "sns.scatterplot(range(1,10),sum_dist)"
   ]
  },
  {
   "cell_type": "code",
   "execution_count": 13,
   "metadata": {},
   "outputs": [],
   "source": [
    "from sklearn.cluster import MiniBatchKMeans\n",
    "\n",
    "kmeans = MiniBatchKMeans(n_clusters=8,random_state=0)\n",
    "\n",
    "kmeans.fit(train_test_linear[behavier_column])\n",
    "\n",
    "distances = kmeans.transform(train_test_linear[behavier_column])\n",
    "\n",
    "clusters = kmeans.predict(train_test_linear[behavier_column])\n",
    "distances = kmeans.transform(train_test_linear[behavier_column])\n",
    "\n",
    "train_test_linear['behavier_cluster'] = pd.Series(clusters)\n",
    "train_test_linear['behavier_distance'] = pd.Series(distances.min(axis=1))"
   ]
  },
  {
   "cell_type": "code",
   "execution_count": 14,
   "metadata": {},
   "outputs": [],
   "source": [
    "train_linear = train_test_linear[:27100]\n",
    "test_linear = train_test_linear[27100:]"
   ]
  },
  {
   "cell_type": "code",
   "execution_count": 15,
   "metadata": {},
   "outputs": [
    {
     "data": {
      "text/plain": [
       "<matplotlib.axes._subplots.AxesSubplot at 0x7f2ee4950370>"
      ]
     },
     "execution_count": 15,
     "metadata": {},
     "output_type": "execute_result"
    },
    {
     "data": {
      "image/png": "[encoded data removed]",
      "text/plain": [
       "<Figure size 432x288 with 1 Axes>"
      ]
     },
     "metadata": {
      "needs_background": "light"
     },
     "output_type": "display_data"
    }
   ],
   "source": [
    "train_linear.groupby([\"behavier_cluster\"])[\"y\"].mean().plot(kind=\"bar\")"
   ]
  },
  {
   "cell_type": "code",
   "execution_count": 16,
   "metadata": {},
   "outputs": [],
   "source": [
    "#属するクラスタの中心までの距離を標準化\n",
    "from sklearn.preprocessing import StandardScaler\n",
    "sc = StandardScaler()\n",
    "sc.fit(train_test_linear[[\"status_distance\",\"behavier_distance\"]])\n",
    "train_test_linear[[\"status_distance\",\"behavier_distance\"]] = sc.transform(train_test_linear[[\"status_distance\",\"behavier_distance\"]])"
   ]
  },
  {
   "cell_type": "code",
   "execution_count": 17,
   "metadata": {},
   "outputs": [],
   "source": [
    "train_test_tree[[\"status_distance\",\"behavier_distance\"]] = train_test_linear[[\"status_distance\",\"behavier_distance\"]]"
   ]
  },
  {
   "cell_type": "code",
   "execution_count": 18,
   "metadata": {},
   "outputs": [],
   "source": [
    "train_test_tree[\"status_cluster\"] = train_test_linear[\"status_cluster\"]\n",
    "train_test_tree[\"behavier_cluster\"] = train_test_linear[\"behavier_cluster\"]"
   ]
  },
  {
   "cell_type": "code",
   "execution_count": 19,
   "metadata": {},
   "outputs": [],
   "source": [
    "#属するクラスタを表すカラムをダミー変数化\n",
    "sta_clu_dummy = pd.get_dummies(train_test_linear[\"status_cluster\"],drop_first=True,prefix=\"sta_clu\")\n",
    "beh_clu_dummy = pd.get_dummies(train_test_linear[\"behavier_cluster\"],drop_first=True,prefix=\"beh_clu\")"
   ]
  },
  {
   "cell_type": "code",
   "execution_count": 20,
   "metadata": {},
   "outputs": [],
   "source": [
    "train_test_linear = pd.concat([train_test_linear,sta_clu_dummy],axis=1)\n",
    "train_test_linear = pd.concat([train_test_linear,beh_clu_dummy],axis=1)\n",
    "train_test_linear = train_test_linear.drop([\"status_cluster\",\"behavier_cluster\"],axis=1)"
   ]
  },
  {
   "cell_type": "code",
   "execution_count": 21,
   "metadata": {},
   "outputs": [],
   "source": [
    "train_linear = train_test_linear[:27100]\n",
    "test_linear = train_test_linear[27100:]\n",
    "train_tree = train_test_tree[:27100]\n",
    "test_tree = train_test_tree[27100:]"
   ]
  },
  {
   "cell_type": "code",
   "execution_count": 22,
   "metadata": {},
   "outputs": [
    {
     "name": "stdout",
     "output_type": "stream",
     "text": [
      "<class 'pandas.core.frame.DataFrame'>\n",
      "Int64Index: 18050 entries, 0 to 18049\n",
      "Data columns (total 77 columns):\n",
      " #   Column             Non-Null Count  Dtype  \n",
      "---  ------             --------------  -----  \n",
      " 0   default            18050 non-null  int64  \n",
      " 1   housing            18050 non-null  int64  \n",
      " 2   loan               18050 non-null  int64  \n",
      " 3   poutcome           18050 non-null  int64  \n",
      " 4   edu_unknown_flg    18050 non-null  int64  \n",
      " 5   balance_minus_flg  18050 non-null  int64  \n",
      " 6   con_unknown_flg    18050 non-null  int64  \n",
      " 7   duration_zero_flg  18050 non-null  int64  \n",
      " 8   pdays_flg          18050 non-null  int64  \n",
      " 9   pou_unknown_flg    18050 non-null  int64  \n",
      " 10  age                18050 non-null  float64\n",
      " 11  balance            18050 non-null  float64\n",
      " 12  day                18050 non-null  float64\n",
      " 13  month+day          18050 non-null  float64\n",
      " 14  duration_sc        18050 non-null  float64\n",
      " 15  pdays_sc           18050 non-null  float64\n",
      " 16  job_1250           18050 non-null  int64  \n",
      " 17  job_1306           18050 non-null  int64  \n",
      " 18  job_1661           18050 non-null  int64  \n",
      " 19  job_1884           18050 non-null  int64  \n",
      " 20  job_1890           18050 non-null  int64  \n",
      " 21  job_4192           18050 non-null  int64  \n",
      " 22  job_5339           18050 non-null  int64  \n",
      " 23  job_583            18050 non-null  int64  \n",
      " 24  job_8128           18050 non-null  int64  \n",
      " 25  job_8873           18050 non-null  int64  \n",
      " 26  marital_1          18050 non-null  int64  \n",
      " 27  marital_2          18050 non-null  int64  \n",
      " 28  contact_1          18050 non-null  int64  \n",
      " 29  contact_2          18050 non-null  int64  \n",
      " 30  campaign_2         18050 non-null  int64  \n",
      " 31  campaign_3         18050 non-null  int64  \n",
      " 32  campaign_4         18050 non-null  int64  \n",
      " 33  previous_1         18050 non-null  int64  \n",
      " 34  previous_2         18050 non-null  int64  \n",
      " 35  previous_3         18050 non-null  int64  \n",
      " 36  month_10           18050 non-null  int64  \n",
      " 37  month_11           18050 non-null  int64  \n",
      " 38  month_2            18050 non-null  int64  \n",
      " 39  month_3            18050 non-null  int64  \n",
      " 40  month_4            18050 non-null  int64  \n",
      " 41  month_5            18050 non-null  int64  \n",
      " 42  month_6            18050 non-null  int64  \n",
      " 43  month_7            18050 non-null  int64  \n",
      " 44  month_8            18050 non-null  int64  \n",
      " 45  month_9            18050 non-null  int64  \n",
      " 46  education_1771     18050 non-null  int64  \n",
      " 47  education_26754    18050 non-null  int64  \n",
      " 48  education_5560     18050 non-null  int64  \n",
      " 49  poutcome_1         18050 non-null  int64  \n",
      " 50  poutcome_2         18050 non-null  int64  \n",
      " 51  prob_1             18050 non-null  float64\n",
      " 52  prob_2             18050 non-null  float64\n",
      " 53  prob_3             18050 non-null  float64\n",
      " 54  prob_4             18050 non-null  float64\n",
      " 55  prob_5             18050 non-null  float64\n",
      " 56  prob_6             18050 non-null  float64\n",
      " 57  prob_7             18050 non-null  float64\n",
      " 58  prob_8             18050 non-null  float64\n",
      " 59  prob_9             18050 non-null  float64\n",
      " 60  y                  0 non-null      float64\n",
      " 61  status_distance    18050 non-null  float64\n",
      " 62  behavier_distance  18050 non-null  float64\n",
      " 63  sta_clu_1          18050 non-null  uint8  \n",
      " 64  sta_clu_2          18050 non-null  uint8  \n",
      " 65  sta_clu_3          18050 non-null  uint8  \n",
      " 66  sta_clu_4          18050 non-null  uint8  \n",
      " 67  sta_clu_5          18050 non-null  uint8  \n",
      " 68  sta_clu_6          18050 non-null  uint8  \n",
      " 69  sta_clu_7          18050 non-null  uint8  \n",
      " 70  beh_clu_1          18050 non-null  uint8  \n",
      " 71  beh_clu_2          18050 non-null  uint8  \n",
      " 72  beh_clu_3          18050 non-null  uint8  \n",
      " 73  beh_clu_4          18050 non-null  uint8  \n",
      " 74  beh_clu_5          18050 non-null  uint8  \n",
      " 75  beh_clu_6          18050 non-null  uint8  \n",
      " 76  beh_clu_7          18050 non-null  uint8  \n",
      "dtypes: float64(18), int64(45), uint8(14)\n",
      "memory usage: 9.1 MB\n"
     ]
    }
   ],
   "source": [
    "test_linear.info()"
   ]
  },
  {
   "cell_type": "code",
   "execution_count": 23,
   "metadata": {},
   "outputs": [],
   "source": [
    "test_linear = test_linear.drop(\"y\",axis=1)\n",
    "test_tree = test_tree.drop(\"y\",axis=1)"
   ]
  },
  {
   "cell_type": "code",
   "execution_count": 24,
   "metadata": {},
   "outputs": [
    {
     "name": "stdout",
     "output_type": "stream",
     "text": [
      "<class 'pandas.core.frame.DataFrame'>\n",
      "Int64Index: 18050 entries, 0 to 18049\n",
      "Data columns (total 76 columns):\n",
      " #   Column             Non-Null Count  Dtype  \n",
      "---  ------             --------------  -----  \n",
      " 0   default            18050 non-null  int64  \n",
      " 1   housing            18050 non-null  int64  \n",
      " 2   loan               18050 non-null  int64  \n",
      " 3   poutcome           18050 non-null  int64  \n",
      " 4   edu_unknown_flg    18050 non-null  int64  \n",
      " 5   balance_minus_flg  18050 non-null  int64  \n",
      " 6   con_unknown_flg    18050 non-null  int64  \n",
      " 7   duration_zero_flg  18050 non-null  int64  \n",
      " 8   pdays_flg          18050 non-null  int64  \n",
      " 9   pou_unknown_flg    18050 non-null  int64  \n",
      " 10  age                18050 non-null  float64\n",
      " 11  balance            18050 non-null  float64\n",
      " 12  day                18050 non-null  float64\n",
      " 13  month+day          18050 non-null  float64\n",
      " 14  duration_sc        18050 non-null  float64\n",
      " 15  pdays_sc           18050 non-null  float64\n",
      " 16  job_1250           18050 non-null  int64  \n",
      " 17  job_1306           18050 non-null  int64  \n",
      " 18  job_1661           18050 non-null  int64  \n",
      " 19  job_1884           18050 non-null  int64  \n",
      " 20  job_1890           18050 non-null  int64  \n",
      " 21  job_4192           18050 non-null  int64  \n",
      " 22  job_5339           18050 non-null  int64  \n",
      " 23  job_583            18050 non-null  int64  \n",
      " 24  job_8128           18050 non-null  int64  \n",
      " 25  job_8873           18050 non-null  int64  \n",
      " 26  marital_1          18050 non-null  int64  \n",
      " 27  marital_2          18050 non-null  int64  \n",
      " 28  contact_1          18050 non-null  int64  \n",
      " 29  contact_2          18050 non-null  int64  \n",
      " 30  campaign_2         18050 non-null  int64  \n",
      " 31  campaign_3         18050 non-null  int64  \n",
      " 32  campaign_4         18050 non-null  int64  \n",
      " 33  previous_1         18050 non-null  int64  \n",
      " 34  previous_2         18050 non-null  int64  \n",
      " 35  previous_3         18050 non-null  int64  \n",
      " 36  month_10           18050 non-null  int64  \n",
      " 37  month_11           18050 non-null  int64  \n",
      " 38  month_2            18050 non-null  int64  \n",
      " 39  month_3            18050 non-null  int64  \n",
      " 40  month_4            18050 non-null  int64  \n",
      " 41  month_5            18050 non-null  int64  \n",
      " 42  month_6            18050 non-null  int64  \n",
      " 43  month_7            18050 non-null  int64  \n",
      " 44  month_8            18050 non-null  int64  \n",
      " 45  month_9            18050 non-null  int64  \n",
      " 46  education_1771     18050 non-null  int64  \n",
      " 47  education_26754    18050 non-null  int64  \n",
      " 48  education_5560     18050 non-null  int64  \n",
      " 49  poutcome_1         18050 non-null  int64  \n",
      " 50  poutcome_2         18050 non-null  int64  \n",
      " 51  prob_1             18050 non-null  float64\n",
      " 52  prob_2             18050 non-null  float64\n",
      " 53  prob_3             18050 non-null  float64\n",
      " 54  prob_4             18050 non-null  float64\n",
      " 55  prob_5             18050 non-null  float64\n",
      " 56  prob_6             18050 non-null  float64\n",
      " 57  prob_7             18050 non-null  float64\n",
      " 58  prob_8             18050 non-null  float64\n",
      " 59  prob_9             18050 non-null  float64\n",
      " 60  status_distance    18050 non-null  float64\n",
      " 61  behavier_distance  18050 non-null  float64\n",
      " 62  sta_clu_1          18050 non-null  uint8  \n",
      " 63  sta_clu_2          18050 non-null  uint8  \n",
      " 64  sta_clu_3          18050 non-null  uint8  \n",
      " 65  sta_clu_4          18050 non-null  uint8  \n",
      " 66  sta_clu_5          18050 non-null  uint8  \n",
      " 67  sta_clu_6          18050 non-null  uint8  \n",
      " 68  sta_clu_7          18050 non-null  uint8  \n",
      " 69  beh_clu_1          18050 non-null  uint8  \n",
      " 70  beh_clu_2          18050 non-null  uint8  \n",
      " 71  beh_clu_3          18050 non-null  uint8  \n",
      " 72  beh_clu_4          18050 non-null  uint8  \n",
      " 73  beh_clu_5          18050 non-null  uint8  \n",
      " 74  beh_clu_6          18050 non-null  uint8  \n",
      " 75  beh_clu_7          18050 non-null  uint8  \n",
      "dtypes: float64(17), int64(45), uint8(14)\n",
      "memory usage: 8.9 MB\n"
     ]
    }
   ],
   "source": [
    "test_linear.info()"
   ]
  },
  {
   "cell_type": "code",
   "execution_count": null,
   "metadata": {},
   "outputs": [],
   "source": []
  },
  {
   "cell_type": "markdown",
   "metadata": {},
   "source": [
    "## 新たな特徴量の作成"
   ]
  },
  {
   "cell_type": "code",
   "execution_count": 25,
   "metadata": {},
   "outputs": [],
   "source": [
    "#年齢を分割\n",
    "train_test_tree[\"age_binned\"] = pd.qcut(train_test_tree[\"age\"],7,labels=False)\n",
    "train_test_linear[\"age_binned\"] = train_test_tree[\"age_binned\"]\n",
    "train_linear = train_test_linear[:27100]\n",
    "test_linear = train_test_linear[27100:]\n",
    "train_tree = train_test_tree[:27100]\n",
    "test_tree = train_test_tree[27100:]"
   ]
  },
  {
   "cell_type": "code",
   "execution_count": 26,
   "metadata": {},
   "outputs": [],
   "source": [
    "#train_linear.groupby([\"age_binned\"])[\"y\"].mean().plot(kind=\"bar\")"
   ]
  },
  {
   "cell_type": "code",
   "execution_count": 27,
   "metadata": {},
   "outputs": [],
   "source": [
    "#収入を分割\n",
    "train_test_tree[\"balance_binned\"] = pd.cut(train_test_tree[\"balance\"],10,labels=False)\n",
    "train_test_linear[\"balance_binned\"] = train_test_tree[\"balance_binned\"]\n",
    "train_linear = train_test_linear[:27100]\n",
    "test_linear = train_test_linear[27100:]\n",
    "train_tree = train_test_tree[:27100]\n",
    "test_tree = train_test_tree[27100:]"
   ]
  },
  {
   "cell_type": "code",
   "execution_count": 28,
   "metadata": {},
   "outputs": [],
   "source": [
    "#train_linear.groupby([\"balance_binned\"])[\"y\"].mean().plot(kind=\"bar\")"
   ]
  },
  {
   "cell_type": "code",
   "execution_count": 29,
   "metadata": {},
   "outputs": [],
   "source": [
    "#日付を分割したが精度が下がったため不採用\n",
    "#train_test_tree[\"day_binned\"] = pd.cut(train_test_tree[\"day\"],4,labels=False)\n",
    "#train_test_linear[\"day_binned\"] = train_test_tree[\"day_binned\"]\n",
    "#train_linear = train_test_linear[:27100]\n",
    "#test_linear = train_test_linear[27100:]\n",
    "#train_tree = train_test_tree[:27100]\n",
    "#test_tree = train_test_tree[27100:]"
   ]
  },
  {
   "cell_type": "code",
   "execution_count": 30,
   "metadata": {},
   "outputs": [],
   "source": [
    "#train_linear.groupby([\"day_binned\"])[\"y\"].mean().plot(kind=\"bar\")"
   ]
  },
  {
   "cell_type": "code",
   "execution_count": 31,
   "metadata": {},
   "outputs": [],
   "source": [
    "#接触時間を分割\n",
    "train_test_tree[\"duration_binned\"] = pd.qcut(train_test_tree[\"duration_sc\"],4,labels=False)\n",
    "train_test_linear[\"duration_binned\"] = train_test_tree[\"duration_binned\"]\n",
    "train_linear = train_test_linear[:27100]\n",
    "test_linear = train_test_linear[27100:]\n",
    "train_tree = train_test_tree[:27100]\n",
    "test_tree = train_test_tree[27100:]"
   ]
  },
  {
   "cell_type": "code",
   "execution_count": 32,
   "metadata": {},
   "outputs": [],
   "source": [
    "#train_linear.groupby([\"duration_binned\"])[\"y\"].mean().plot(kind=\"bar\")"
   ]
  },
  {
   "cell_type": "code",
   "execution_count": 33,
   "metadata": {},
   "outputs": [],
   "source": [
    "train_test_tree[\"pdays_binned\"] = pd.qcut(train_test_tree[\"pdays_sc\"],5,labels=False)\n",
    "train_test_linear[\"pdays_binned\"] = train_test_tree[\"pdays_binned\"]\n",
    "train_linear = train_test_linear[:27100]\n",
    "test_linear = train_test_linear[27100:]\n",
    "train_tree = train_test_tree[:27100]\n",
    "test_tree = train_test_tree[27100:]"
   ]
  },
  {
   "cell_type": "code",
   "execution_count": 34,
   "metadata": {},
   "outputs": [],
   "source": [
    "#train_linear.groupby([\"pdays_binned\"])[\"y\"].mean().plot(kind=\"bar\")"
   ]
  },
  {
   "cell_type": "code",
   "execution_count": 35,
   "metadata": {},
   "outputs": [],
   "source": [
    "#年齢と収入を掛合わせた特徴を作成\n",
    "train_test_tree[\"ageXbalance\"] = train_test_tree[\"age_binned\"] * train_test_tree[\"balance_binned\"]\n",
    "train_test_linear[\"ageXbalance\"] = train_test_tree[\"ageXbalance\"]\n",
    "train_linear = train_test_linear[:27100]\n",
    "test_linear = train_test_linear[27100:]\n",
    "train_tree = train_test_tree[:27100]\n",
    "test_tree = train_test_tree[27100:]"
   ]
  },
  {
   "cell_type": "code",
   "execution_count": 36,
   "metadata": {},
   "outputs": [],
   "source": [
    "#train_linear.groupby([\"ageXbalance\"])[\"y\"].mean().plot(kind=\"bar\")"
   ]
  },
  {
   "cell_type": "code",
   "execution_count": 37,
   "metadata": {},
   "outputs": [
    {
     "data": {
      "text/plain": [
       "0     6952\n",
       "6     1513\n",
       "12    1395\n",
       "4     1310\n",
       "8     1221\n",
       "18    1073\n",
       "24    1017\n",
       "2      878\n",
       "16     829\n",
       "5      826\n",
       "10     772\n",
       "3      738\n",
       "36     719\n",
       "20     705\n",
       "9      673\n",
       "30     669\n",
       "15     602\n",
       "1      456\n",
       "14     455\n",
       "7      445\n",
       "32     429\n",
       "35     399\n",
       "48     383\n",
       "28     374\n",
       "42     360\n",
       "54     357\n",
       "45     355\n",
       "40     344\n",
       "25     325\n",
       "27     273\n",
       "21     253\n",
       "Name: ageXbalance, dtype: int64"
      ]
     },
     "execution_count": 37,
     "metadata": {},
     "output_type": "execute_result"
    }
   ],
   "source": [
    "train_tree[\"ageXbalance\"].value_counts()"
   ]
  },
  {
   "cell_type": "code",
   "execution_count": 38,
   "metadata": {},
   "outputs": [],
   "source": [
    "#以下で作成する特徴はあまり効果がなかったが一応そのままにしておく"
   ]
  },
  {
   "cell_type": "code",
   "execution_count": 39,
   "metadata": {},
   "outputs": [],
   "source": [
    "#職業と教育レベルを掛合わせた特徴を作成\n",
    "train_test_tree[\"eduXjob\"] = train_test_tree[\"education\"] * train_test_tree[\"job\"]\n",
    "train_test_linear[\"eduXjob\"] = train_test_tree[\"eduXjob\"]\n",
    "train_linear = train_test_linear[:27100]\n",
    "test_linear = train_test_linear[27100:]\n",
    "train_tree = train_test_tree[:27100]\n",
    "test_tree = train_test_tree[27100:]"
   ]
  },
  {
   "cell_type": "code",
   "execution_count": 40,
   "metadata": {},
   "outputs": [],
   "source": [
    "#train_linear.groupby([\"eduXjob\"])[\"y\"].mean().plot(kind=\"bar\")"
   ]
  },
  {
   "cell_type": "code",
   "execution_count": 41,
   "metadata": {},
   "outputs": [],
   "source": [
    "#職業と年齢を掛合わせた特徴を作成\n",
    "train_test_tree[\"ageXjob\"] = train_test_tree[\"age_binned\"] * train_test_tree[\"job\"]\n",
    "train_test_linear[\"ageXjob\"] = train_test_tree[\"ageXjob\"]\n",
    "train_linear = train_test_linear[:27100]\n",
    "test_linear = train_test_linear[27100:]\n",
    "train_tree = train_test_tree[:27100]\n",
    "test_tree = train_test_tree[27100:]"
   ]
  },
  {
   "cell_type": "code",
   "execution_count": 42,
   "metadata": {},
   "outputs": [],
   "source": [
    "#train_linear.groupby([\"ageXjob\"])[\"y\"].mean().plot(kind=\"bar\")"
   ]
  },
  {
   "cell_type": "code",
   "execution_count": 43,
   "metadata": {},
   "outputs": [],
   "source": [
    "#職業と収入を掛合わせた特徴を作成\n",
    "train_test_tree[\"balanceXjob\"] = train_test_tree[\"balance_binned\"] * train_test_tree[\"job\"]\n",
    "train_test_linear[\"balanceXjob\"] = train_test_tree[\"balanceXjob\"]\n",
    "train_linear = train_test_linear[:27100]\n",
    "test_linear = train_test_linear[27100:]\n",
    "train_tree = train_test_tree[:27100]\n",
    "test_tree = train_test_tree[27100:]"
   ]
  },
  {
   "cell_type": "code",
   "execution_count": 44,
   "metadata": {},
   "outputs": [],
   "source": [
    "#train_linear.groupby([\"balanceXjob\"])[\"y\"].mean().plot(kind=\"bar\")"
   ]
  },
  {
   "cell_type": "code",
   "execution_count": 45,
   "metadata": {},
   "outputs": [],
   "source": [
    "#年齢と教育レベルを掛合わせた特徴を作成\n",
    "train_test_tree[\"ageXedu\"] = train_test_tree[\"age_binned\"] * train_test_tree[\"education\"]\n",
    "train_test_linear[\"ageXedu\"] = train_test_tree[\"ageXedu\"]\n",
    "train_linear = train_test_linear[:27100]\n",
    "test_linear = train_test_linear[27100:]\n",
    "train_tree = train_test_tree[:27100]\n",
    "test_tree = train_test_tree[27100:]"
   ]
  },
  {
   "cell_type": "code",
   "execution_count": 46,
   "metadata": {},
   "outputs": [],
   "source": [
    "#train_linear.groupby([\"ageXedu\"])[\"y\"].mean().plot(kind=\"bar\")"
   ]
  },
  {
   "cell_type": "code",
   "execution_count": 47,
   "metadata": {},
   "outputs": [],
   "source": [
    "#年齢と連絡手段を掛け合わせた特徴を作成\n",
    "train_test_tree[\"ageXcontact\"] = train_test_tree[\"age_binned\"] * train_test_tree[\"contact\"]\n",
    "train_test_linear[\"ageXcontact\"] = train_test_tree[\"ageXcontact\"]\n",
    "train_linear = train_test_linear[:27100]\n",
    "test_linear = train_test_linear[27100:]\n",
    "train_tree = train_test_tree[:27100]\n",
    "test_tree = train_test_tree[27100:]"
   ]
  },
  {
   "cell_type": "code",
   "execution_count": 48,
   "metadata": {},
   "outputs": [],
   "source": [
    "#train_linear.groupby([\"ageXcontact\"])[\"y\"].mean().plot(kind=\"bar\")"
   ]
  },
  {
   "cell_type": "code",
   "execution_count": 49,
   "metadata": {},
   "outputs": [],
   "source": [
    "#収入と連絡手段を掛け合わせた特徴を作成\n",
    "train_test_tree[\"balanceXcontact\"] = train_test_tree[\"balance_binned\"] * train_test_tree[\"contact\"]\n",
    "train_test_linear[\"balanceXcontact\"] = train_test_tree[\"balanceXcontact\"]\n",
    "train_linear = train_test_linear[:27100]\n",
    "test_linear = train_test_linear[27100:]\n",
    "train_tree = train_test_tree[:27100]\n",
    "test_tree = train_test_tree[27100:]"
   ]
  },
  {
   "cell_type": "code",
   "execution_count": 50,
   "metadata": {},
   "outputs": [],
   "source": [
    "#train_linear.groupby([\"balanceXcontact\"])[\"y\"].mean().plot(kind=\"bar\")"
   ]
  },
  {
   "cell_type": "code",
   "execution_count": 51,
   "metadata": {},
   "outputs": [],
   "source": [
    "#接触時間と連絡手段を掛け合わせた特徴を作成\n",
    "train_test_tree[\"durationXcontact\"] = train_test_tree[\"duration_sc\"] * train_test_tree[\"contact\"]\n",
    "train_test_linear[\"durationXcontact\"] = train_test_tree[\"durationXcontact\"]\n",
    "train_linear = train_test_linear[:27100]\n",
    "test_linear = train_test_linear[27100:]\n",
    "train_tree = train_test_tree[:27100]\n",
    "test_tree = train_test_tree[27100:]"
   ]
  },
  {
   "cell_type": "code",
   "execution_count": 52,
   "metadata": {},
   "outputs": [],
   "source": [
    "#train_linear.groupby([\"y\"])[\"durationXcontact\"].mean().plot(kind=\"bar\")"
   ]
  },
  {
   "cell_type": "code",
   "execution_count": 53,
   "metadata": {},
   "outputs": [],
   "source": [
    "#接触時間と前回のキャンペーンの反応を掛け合わせた特徴を作成\n",
    "train_test_tree[\"durationXpoutcome\"] = train_test_tree[\"duration_sc\"] * train_test_tree[\"poutcome\"]\n",
    "train_test_linear[\"durationXpoutcome\"] = train_test_tree[\"durationXpoutcome\"]\n",
    "train_linear = train_test_linear[:27100]\n",
    "test_linear = train_test_linear[27100:]\n",
    "train_tree = train_test_tree[:27100]\n",
    "test_tree = train_test_tree[27100:]"
   ]
  },
  {
   "cell_type": "code",
   "execution_count": 54,
   "metadata": {},
   "outputs": [],
   "source": [
    "#train_linear.groupby([\"y\"])[\"durationXpoutcome\"].mean().plot(kind=\"bar\")"
   ]
  },
  {
   "cell_type": "code",
   "execution_count": 55,
   "metadata": {},
   "outputs": [],
   "source": [
    "#最終接触日と前回のキャンペーンの反応を掛け合わせた特徴を作成\n",
    "train_test_tree[\"pdaysXpoutcome\"] = train_test_tree[\"pdays_sc\"] * train_test_tree[\"poutcome\"]\n",
    "train_test_linear[\"pdaysXpoutcome\"] = train_test_tree[\"pdaysXpoutcome\"]\n",
    "train_linear = train_test_linear[:27100]\n",
    "test_linear = train_test_linear[27100:]\n",
    "train_tree = train_test_tree[:27100]\n",
    "test_tree = train_test_tree[27100:]"
   ]
  },
  {
   "cell_type": "code",
   "execution_count": 56,
   "metadata": {},
   "outputs": [],
   "source": [
    "#train_linear.groupby([\"y\"])[\"pdaysXpoutcome\"].mean().plot(kind=\"bar\")"
   ]
  },
  {
   "cell_type": "code",
   "execution_count": 57,
   "metadata": {},
   "outputs": [],
   "source": [
    "#職業と月を掛合わせた特徴を作成\n",
    "train_test_tree[\"jobXmonth\"] = train_test_tree[\"job\"] * train_test_tree[\"month\"]\n",
    "train_test_linear[\"jobXmonth\"] = train_test_tree[\"jobXmonth\"]\n",
    "train_linear = train_test_linear[:27100]\n",
    "test_linear = train_test_linear[27100:]\n",
    "train_tree = train_test_tree[:27100]\n",
    "test_tree = train_test_tree[27100:]"
   ]
  },
  {
   "cell_type": "code",
   "execution_count": 58,
   "metadata": {},
   "outputs": [],
   "source": [
    "#train_linear.groupby([\"jobXmonth\"])[\"y\"].mean().plot(kind=\"bar\")"
   ]
  },
  {
   "cell_type": "code",
   "execution_count": 59,
   "metadata": {},
   "outputs": [],
   "source": [
    "#年齢と「既婚・独身」を掛合わせた特徴を作成\n",
    "train_test_tree[\"ageXmarital\"] = train_test_tree[\"age_binned\"] * train_test_tree[\"marital\"]\n",
    "train_test_linear[\"ageXmarital\"] = train_test_tree[\"ageXmarital\"]\n",
    "train_linear = train_test_linear[:27100]\n",
    "test_linear = train_test_linear[27100:]\n",
    "train_tree = train_test_tree[:27100]\n",
    "test_tree = train_test_tree[27100:]"
   ]
  },
  {
   "cell_type": "code",
   "execution_count": 60,
   "metadata": {},
   "outputs": [],
   "source": [
    "#train_linear.groupby([\"ageXmarital\"])[\"y\"].mean().plot(kind=\"bar\")"
   ]
  },
  {
   "cell_type": "code",
   "execution_count": 61,
   "metadata": {},
   "outputs": [],
   "source": [
    "#職業と「既婚・独身」を掛合わせた特徴を作成\n",
    "train_test_tree[\"jobXmarital\"] = train_test_tree[\"job\"] * train_test_tree[\"marital\"]\n",
    "train_test_linear[\"jobXmarital\"] = train_test_tree[\"jobXmarital\"]\n",
    "train_linear = train_test_linear[:27100]\n",
    "test_linear = train_test_linear[27100:]\n",
    "train_tree = train_test_tree[:27100]\n",
    "test_tree = train_test_tree[27100:]"
   ]
  },
  {
   "cell_type": "code",
   "execution_count": 62,
   "metadata": {},
   "outputs": [],
   "source": [
    "#train_linear.groupby([\"jobXmarital\"])[\"y\"].mean().plot(kind=\"bar\")"
   ]
  },
  {
   "cell_type": "code",
   "execution_count": 63,
   "metadata": {},
   "outputs": [],
   "source": [
    "#教育レベルと「既婚・独身」を掛合わせた特徴を作成\n",
    "train_test_tree[\"eduXmarital\"] = train_test_tree[\"education\"] * train_test_tree[\"marital\"]\n",
    "train_test_linear[\"eduXmarital\"] = train_test_tree[\"eduXmarital\"]\n",
    "train_linear = train_test_linear[:27100]\n",
    "test_linear = train_test_linear[27100:]\n",
    "train_tree = train_test_tree[:27100]\n",
    "test_tree = train_test_tree[27100:]"
   ]
  },
  {
   "cell_type": "code",
   "execution_count": 64,
   "metadata": {},
   "outputs": [],
   "source": [
    "#train_linear.groupby([\"eduXmarital\"])[\"y\"].mean().plot(kind=\"bar\")"
   ]
  },
  {
   "cell_type": "code",
   "execution_count": 65,
   "metadata": {},
   "outputs": [],
   "source": [
    "#教育レベルと連絡手段を掛合わせた特徴を作成\n",
    "train_test_tree[\"eduXcontact\"] = train_test_tree[\"education\"] * train_test_tree[\"contact\"]\n",
    "train_test_linear[\"eduXcontact\"] = train_test_tree[\"eduXcontact\"]\n",
    "train_linear = train_test_linear[:27100]\n",
    "test_linear = train_test_linear[27100:]\n",
    "train_tree = train_test_tree[:27100]\n",
    "test_tree = train_test_tree[27100:]"
   ]
  },
  {
   "cell_type": "code",
   "execution_count": 66,
   "metadata": {},
   "outputs": [],
   "source": [
    "#train_linear.groupby([\"eduXcontact\"])[\"y\"].mean().plot(kind=\"bar\")"
   ]
  },
  {
   "cell_type": "code",
   "execution_count": 67,
   "metadata": {},
   "outputs": [],
   "source": [
    "#教育レベルと前回のキャンペーンの反応を掛合わせた特徴を作成\n",
    "train_test_tree[\"eduXpoutcome\"] = train_test_tree[\"education\"] * train_test_tree[\"poutcome\"]\n",
    "train_test_linear[\"eduXpoutcome\"] = train_test_tree[\"eduXpoutcome\"]\n",
    "train_linear = train_test_linear[:27100]\n",
    "test_linear = train_test_linear[27100:]\n",
    "train_tree = train_test_tree[:27100]\n",
    "test_tree = train_test_tree[27100:]"
   ]
  },
  {
   "cell_type": "code",
   "execution_count": 68,
   "metadata": {},
   "outputs": [],
   "source": [
    "#train_linear.groupby([\"eduXpoutcome\"])[\"y\"].mean().plot(kind=\"bar\")"
   ]
  },
  {
   "cell_type": "code",
   "execution_count": 69,
   "metadata": {},
   "outputs": [],
   "source": [
    "#職業と前回のキャンペーンの反応を掛合わせた特徴を作成\n",
    "train_test_tree[\"jobXpoutcome\"] = train_test_tree[\"job\"] * train_test_tree[\"poutcome\"]\n",
    "train_test_linear[\"jobXpoutcome\"] = train_test_tree[\"jobXpoutcome\"]\n",
    "train_linear = train_test_linear[:27100]\n",
    "test_linear = train_test_linear[27100:]\n",
    "train_tree = train_test_tree[:27100]\n",
    "test_tree = train_test_tree[27100:]"
   ]
  },
  {
   "cell_type": "code",
   "execution_count": 70,
   "metadata": {},
   "outputs": [],
   "source": [
    "#train_linear.groupby([\"jobXpoutcome\"])[\"y\"].mean().plot(kind=\"bar\")"
   ]
  },
  {
   "cell_type": "code",
   "execution_count": 71,
   "metadata": {},
   "outputs": [],
   "source": [
    "#教育レベルと収入を掛合わせた特徴を作成\n",
    "train_test_tree[\"eduXbalance\"] = train_test_tree[\"education\"] * train_test_tree[\"balance_binned\"]\n",
    "train_test_linear[\"eduXbalance\"] = train_test_tree[\"eduXbalance\"]\n",
    "train_linear = train_test_linear[:27100]\n",
    "test_linear = train_test_linear[27100:]\n",
    "train_tree = train_test_tree[:27100]\n",
    "test_tree = train_test_tree[27100:]"
   ]
  },
  {
   "cell_type": "code",
   "execution_count": 72,
   "metadata": {},
   "outputs": [],
   "source": [
    "#train_linear.groupby([\"eduXbalance\"])[\"y\"].mean().plot(kind=\"bar\")"
   ]
  },
  {
   "cell_type": "code",
   "execution_count": 73,
   "metadata": {},
   "outputs": [],
   "source": [
    "#収入と「既婚・独身」を掛合わせた特徴を作成\n",
    "train_test_tree[\"balanceXmarital\"] = train_test_tree[\"balance_binned\"] * train_test_tree[\"marital\"]\n",
    "train_test_linear[\"balanceXmarital\"] = train_test_tree[\"balanceXmarital\"]\n",
    "train_linear = train_test_linear[:27100]\n",
    "test_linear = train_test_linear[27100:]\n",
    "train_tree = train_test_tree[:27100]\n",
    "test_tree = train_test_tree[27100:]"
   ]
  },
  {
   "cell_type": "code",
   "execution_count": 74,
   "metadata": {},
   "outputs": [],
   "source": [
    "#train_linear.groupby([\"balanceXmarital\"])[\"y\"].mean().plot(kind=\"bar\")"
   ]
  },
  {
   "cell_type": "code",
   "execution_count": null,
   "metadata": {},
   "outputs": [],
   "source": []
  },
  {
   "cell_type": "code",
   "execution_count": 75,
   "metadata": {},
   "outputs": [],
   "source": [
    "#収入を年齢で割った特徴を作成(年齢が高いと収入が増えるため、収入に対する年齢の影響を除去)\n",
    "train_test_tree[\"balance/age\"] = train_test_tree[\"balance\"] * train_test_tree[\"age\"]\n",
    "train_test_linear[\"balance/age\"] = train_test_tree[\"balance/age\"]\n",
    "train_linear = train_test_linear[:27100]\n",
    "test_linear = train_test_linear[27100:]\n",
    "train_tree = train_test_tree[:27100]\n",
    "test_tree = train_test_tree[27100:]"
   ]
  },
  {
   "cell_type": "code",
   "execution_count": 76,
   "metadata": {},
   "outputs": [],
   "source": [
    "#train_linear.groupby([\"y\"])[\"balance/age\"].describe()"
   ]
  },
  {
   "cell_type": "code",
   "execution_count": 77,
   "metadata": {},
   "outputs": [],
   "source": [
    "#現キャンペーンでの接触回数と前回のキャンペーンでの接触回数を合計した特徴を作成\n",
    "train_test_tree[\"campaign+previous\"] = train_test_tree[\"campaign\"] * train_test_tree[\"previous\"]\n",
    "train_test_linear[\"campaign+previous\"] = train_test_tree[\"campaign+previous\"]\n",
    "train_linear = train_test_linear[:27100]\n",
    "test_linear = train_test_linear[27100:]\n",
    "train_tree = train_test_tree[:27100]\n",
    "test_tree = train_test_tree[27100:]"
   ]
  },
  {
   "cell_type": "code",
   "execution_count": 78,
   "metadata": {},
   "outputs": [],
   "source": [
    "#train_linear.groupby([\"campaign+previous\"])[\"y\"].mean().plot(kind=\"bar\")"
   ]
  },
  {
   "cell_type": "code",
   "execution_count": 79,
   "metadata": {},
   "outputs": [],
   "source": [
    "#接触時間を接触回数で割った平均接触時間の特徴を作成\n",
    "train_test_tree[\"duration/num\"] = train_test_tree[\"duration_binned\"] * train_test_tree[\"campaign+previous\"]\n",
    "train_test_linear[\"duration/num\"] = train_test_tree[\"duration/num\"]\n",
    "train_linear = train_test_linear[:27100]\n",
    "test_linear = train_test_linear[27100:]\n",
    "train_tree = train_test_tree[:27100]\n",
    "test_tree = train_test_tree[27100:]"
   ]
  },
  {
   "cell_type": "code",
   "execution_count": 80,
   "metadata": {},
   "outputs": [],
   "source": [
    "#train_linear.groupby([\"duration/num\"])[\"y\"].mean().plot(kind=\"bar\")"
   ]
  },
  {
   "cell_type": "code",
   "execution_count": 81,
   "metadata": {},
   "outputs": [],
   "source": [
    "#キャンペーンでの接触回数と接触時間を掛けた特徴を作成\n",
    "train_test_tree[\"durationXcampaign\"] = train_test_tree[\"duration_binned\"] + train_test_tree[\"campaign\"]\n",
    "train_test_linear[\"durationXcampaign\"] = train_test_tree[\"durationXcampaign\"]\n",
    "train_linear = train_test_linear[:27100]\n",
    "test_linear = train_test_linear[27100:]\n",
    "train_tree = train_test_tree[:27100]\n",
    "test_tree = train_test_tree[27100:]"
   ]
  },
  {
   "cell_type": "code",
   "execution_count": 82,
   "metadata": {},
   "outputs": [],
   "source": [
    "#train_linear.groupby([\"durationXcampaign\"])[\"y\"].mean().plot(kind=\"bar\")"
   ]
  },
  {
   "cell_type": "code",
   "execution_count": 83,
   "metadata": {},
   "outputs": [],
   "source": [
    "#接触時間と年齢を掛けた特徴を作成\n",
    "train_test_tree[\"durationXage\"] = train_test_tree[\"duration_binned\"] + train_test_tree[\"age_binned\"]\n",
    "train_test_linear[\"durationXage\"] = train_test_tree[\"durationXage\"]\n",
    "train_linear = train_test_linear[:27100]\n",
    "test_linear = train_test_linear[27100:]\n",
    "train_tree = train_test_tree[:27100]\n",
    "test_tree = train_test_tree[27100:]"
   ]
  },
  {
   "cell_type": "code",
   "execution_count": 84,
   "metadata": {},
   "outputs": [],
   "source": [
    "#train_linear.groupby([\"durationXage\"])[\"y\"].mean().plot(kind=\"bar\")"
   ]
  },
  {
   "cell_type": "code",
   "execution_count": null,
   "metadata": {},
   "outputs": [],
   "source": []
  },
  {
   "cell_type": "code",
   "execution_count": 85,
   "metadata": {},
   "outputs": [],
   "source": [
    "#作成した特徴のターゲットエンコーディングを行う\n",
    "cat_columns = [\"status_cluster\",\"behavier_cluster\",\"age_binned\",\"balance_binned\",\"duration_binned\"\n",
    "               ,\"pdays_binned\",\"ageXbalance\",\"eduXjob\",\"ageXjob\"\n",
    "               ,\"balanceXjob\",\"ageXedu\",\"ageXcontact\",\"balanceXcontact\"\n",
    "               ,\"jobXmonth\"\n",
    "               ,\"ageXmarital\",\"jobXmarital\",\"eduXmarital\",\"eduXcontact\"\n",
    "               ,\"eduXpoutcome\",\"jobXpoutcome\",\"eduXbalance\",\"balanceXmarital\"\n",
    "               ,\"campaign+previous\",\"duration/num\",\"durationXcampaign\",\"durationXage\"\n",
    "              ]"
   ]
  },
  {
   "cell_type": "code",
   "execution_count": 86,
   "metadata": {},
   "outputs": [
    {
     "name": "stderr",
     "output_type": "stream",
     "text": [
      "<ipython-input-86-483f15c1b83e>:3: SettingWithCopyWarning: \n",
      "A value is trying to be set on a copy of a slice from a DataFrame.\n",
      "Try using .loc[row_indexer,col_indexer] = value instead\n",
      "\n",
      "See the caveats in the documentation: https://pandas.pydata.org/pandas-docs/stable/user_guide/indexing.html#returning-a-view-versus-a-copy\n",
      "  test_tree[c] = test_tree[c].map(train_tree.groupby(c)[\"y\"].mean())\n",
      "<ipython-input-86-483f15c1b83e>:4: SettingWithCopyWarning: \n",
      "A value is trying to be set on a copy of a slice from a DataFrame.\n",
      "Try using .loc[row_indexer,col_indexer] = value instead\n",
      "\n",
      "See the caveats in the documentation: https://pandas.pydata.org/pandas-docs/stable/user_guide/indexing.html#returning-a-view-versus-a-copy\n",
      "  test_tree[c] = test_tree[c].fillna(train_tree.groupby(c)[\"y\"].mean().mean())\n"
     ]
    }
   ],
   "source": [
    "#テストデータのターゲットエンコーディング\n",
    "for c in cat_columns:\n",
    "    test_tree[c] = test_tree[c].map(train_tree.groupby(c)[\"y\"].mean())\n",
    "    test_tree[c] = test_tree[c].fillna(train_tree.groupby(c)[\"y\"].mean().mean())"
   ]
  },
  {
   "cell_type": "code",
   "execution_count": 87,
   "metadata": {},
   "outputs": [
    {
     "name": "stdout",
     "output_type": "stream",
     "text": [
      "<class 'pandas.core.frame.DataFrame'>\n",
      "Int64Index: 18050 entries, 0 to 18049\n",
      "Data columns (total 65 columns):\n",
      " #   Column             Non-Null Count  Dtype  \n",
      "---  ------             --------------  -----  \n",
      " 0   job                18050 non-null  int64  \n",
      " 1   marital            18050 non-null  int64  \n",
      " 2   education          18050 non-null  int64  \n",
      " 3   default            18050 non-null  int64  \n",
      " 4   housing            18050 non-null  int64  \n",
      " 5   loan               18050 non-null  int64  \n",
      " 6   contact            18050 non-null  int64  \n",
      " 7   month              18050 non-null  int64  \n",
      " 8   campaign           18050 non-null  int64  \n",
      " 9   previous           18050 non-null  int64  \n",
      " 10  poutcome           18050 non-null  int64  \n",
      " 11  edu_unknown_flg    18050 non-null  int64  \n",
      " 12  balance_minus_flg  18050 non-null  int64  \n",
      " 13  con_unknown_flg    18050 non-null  int64  \n",
      " 14  duration_zero_flg  18050 non-null  int64  \n",
      " 15  pdays_flg          18050 non-null  int64  \n",
      " 16  pou_unknown_flg    18050 non-null  int64  \n",
      " 17  age                18050 non-null  float64\n",
      " 18  balance            18050 non-null  float64\n",
      " 19  day                18050 non-null  float64\n",
      " 20  month+day          18050 non-null  float64\n",
      " 21  duration_sc        18050 non-null  float64\n",
      " 22  pdays_sc           18050 non-null  float64\n",
      " 23  prob_1             18050 non-null  float64\n",
      " 24  prob_2             18050 non-null  float64\n",
      " 25  prob_3             18050 non-null  float64\n",
      " 26  prob_4             18050 non-null  float64\n",
      " 27  prob_5             18050 non-null  float64\n",
      " 28  prob_6             18050 non-null  float64\n",
      " 29  prob_7             18050 non-null  float64\n",
      " 30  prob_8             18050 non-null  float64\n",
      " 31  prob_9             18050 non-null  float64\n",
      " 32  y                  0 non-null      float64\n",
      " 33  status_distance    18050 non-null  float64\n",
      " 34  behavier_distance  18050 non-null  float64\n",
      " 35  status_cluster     18050 non-null  float64\n",
      " 36  behavier_cluster   18050 non-null  float64\n",
      " 37  age_binned         18050 non-null  float64\n",
      " 38  balance_binned     18050 non-null  float64\n",
      " 39  duration_binned    18050 non-null  float64\n",
      " 40  pdays_binned       18050 non-null  float64\n",
      " 41  ageXbalance        18050 non-null  float64\n",
      " 42  eduXjob            18050 non-null  float64\n",
      " 43  ageXjob            18050 non-null  float64\n",
      " 44  balanceXjob        18050 non-null  float64\n",
      " 45  ageXedu            18050 non-null  float64\n",
      " 46  ageXcontact        18050 non-null  float64\n",
      " 47  balanceXcontact    18050 non-null  float64\n",
      " 48  durationXcontact   18050 non-null  float64\n",
      " 49  durationXpoutcome  18050 non-null  float64\n",
      " 50  pdaysXpoutcome     18050 non-null  float64\n",
      " 51  jobXmonth          18050 non-null  float64\n",
      " 52  ageXmarital        18050 non-null  float64\n",
      " 53  jobXmarital        18050 non-null  float64\n",
      " 54  eduXmarital        18050 non-null  float64\n",
      " 55  eduXcontact        18050 non-null  float64\n",
      " 56  eduXpoutcome       18050 non-null  float64\n",
      " 57  jobXpoutcome       18050 non-null  float64\n",
      " 58  eduXbalance        18050 non-null  float64\n",
      " 59  balanceXmarital    18050 non-null  float64\n",
      " 60  balance/age        18050 non-null  float64\n",
      " 61  campaign+previous  18050 non-null  float64\n",
      " 62  duration/num       18050 non-null  float64\n",
      " 63  durationXcampaign  18050 non-null  float64\n",
      " 64  durationXage       18050 non-null  float64\n",
      "dtypes: float64(48), int64(17)\n",
      "memory usage: 9.1 MB\n"
     ]
    }
   ],
   "source": [
    "test_tree.info()"
   ]
  },
  {
   "cell_type": "code",
   "execution_count": 88,
   "metadata": {},
   "outputs": [
    {
     "name": "stderr",
     "output_type": "stream",
     "text": [
      "/opt/anaconda3/lib/python3.8/site-packages/pandas/core/indexing.py:671: SettingWithCopyWarning: \n",
      "A value is trying to be set on a copy of a slice from a DataFrame\n",
      "\n",
      "See the caveats in the documentation: https://pandas.pydata.org/pandas-docs/stable/user_guide/indexing.html#returning-a-view-versus-a-copy\n",
      "  self._setitem_with_indexer(indexer, value)\n",
      "<ipython-input-88-778fa00078e9>:10: SettingWithCopyWarning: \n",
      "A value is trying to be set on a copy of a slice from a DataFrame\n",
      "\n",
      "See the caveats in the documentation: https://pandas.pydata.org/pandas-docs/stable/user_guide/indexing.html#returning-a-view-versus-a-copy\n",
      "  train_tree[c].iloc[valid_idx] = train_tree[c].iloc[valid_idx].fillna(target_mean.mean())\n",
      "<ipython-input-88-778fa00078e9>:11: SettingWithCopyWarning: \n",
      "A value is trying to be set on a copy of a slice from a DataFrame.\n",
      "Try using .loc[row_indexer,col_indexer] = value instead\n",
      "\n",
      "See the caveats in the documentation: https://pandas.pydata.org/pandas-docs/stable/user_guide/indexing.html#returning-a-view-versus-a-copy\n",
      "  train_tree[c] = tmp\n",
      "/opt/anaconda3/lib/python3.8/site-packages/pandas/core/indexing.py:671: SettingWithCopyWarning: \n",
      "A value is trying to be set on a copy of a slice from a DataFrame\n",
      "\n",
      "See the caveats in the documentation: https://pandas.pydata.org/pandas-docs/stable/user_guide/indexing.html#returning-a-view-versus-a-copy\n",
      "  self._setitem_with_indexer(indexer, value)\n",
      "<ipython-input-88-778fa00078e9>:10: SettingWithCopyWarning: \n",
      "A value is trying to be set on a copy of a slice from a DataFrame\n",
      "\n",
      "See the caveats in the documentation: https://pandas.pydata.org/pandas-docs/stable/user_guide/indexing.html#returning-a-view-versus-a-copy\n",
      "  train_tree[c].iloc[valid_idx] = train_tree[c].iloc[valid_idx].fillna(target_mean.mean())\n",
      "<ipython-input-88-778fa00078e9>:11: SettingWithCopyWarning: \n",
      "A value is trying to be set on a copy of a slice from a DataFrame.\n",
      "Try using .loc[row_indexer,col_indexer] = value instead\n",
      "\n",
      "See the caveats in the documentation: https://pandas.pydata.org/pandas-docs/stable/user_guide/indexing.html#returning-a-view-versus-a-copy\n",
      "  train_tree[c] = tmp\n",
      "/opt/anaconda3/lib/python3.8/site-packages/pandas/core/indexing.py:671: SettingWithCopyWarning: \n",
      "A value is trying to be set on a copy of a slice from a DataFrame\n",
      "\n",
      "See the caveats in the documentation: https://pandas.pydata.org/pandas-docs/stable/user_guide/indexing.html#returning-a-view-versus-a-copy\n",
      "  self._setitem_with_indexer(indexer, value)\n",
      "<ipython-input-88-778fa00078e9>:10: SettingWithCopyWarning: \n",
      "A value is trying to be set on a copy of a slice from a DataFrame\n",
      "\n",
      "See the caveats in the documentation: https://pandas.pydata.org/pandas-docs/stable/user_guide/indexing.html#returning-a-view-versus-a-copy\n",
      "  train_tree[c].iloc[valid_idx] = train_tree[c].iloc[valid_idx].fillna(target_mean.mean())\n",
      "<ipython-input-88-778fa00078e9>:11: SettingWithCopyWarning: \n",
      "A value is trying to be set on a copy of a slice from a DataFrame.\n",
      "Try using .loc[row_indexer,col_indexer] = value instead\n",
      "\n",
      "See the caveats in the documentation: https://pandas.pydata.org/pandas-docs/stable/user_guide/indexing.html#returning-a-view-versus-a-copy\n",
      "  train_tree[c] = tmp\n",
      "/opt/anaconda3/lib/python3.8/site-packages/pandas/core/indexing.py:671: SettingWithCopyWarning: \n",
      "A value is trying to be set on a copy of a slice from a DataFrame\n",
      "\n",
      "See the caveats in the documentation: https://pandas.pydata.org/pandas-docs/stable/user_guide/indexing.html#returning-a-view-versus-a-copy\n",
      "  self._setitem_with_indexer(indexer, value)\n",
      "<ipython-input-88-778fa00078e9>:10: SettingWithCopyWarning: \n",
      "A value is trying to be set on a copy of a slice from a DataFrame\n",
      "\n",
      "See the caveats in the documentation: https://pandas.pydata.org/pandas-docs/stable/user_guide/indexing.html#returning-a-view-versus-a-copy\n",
      "  train_tree[c].iloc[valid_idx] = train_tree[c].iloc[valid_idx].fillna(target_mean.mean())\n",
      "<ipython-input-88-778fa00078e9>:11: SettingWithCopyWarning: \n",
      "A value is trying to be set on a copy of a slice from a DataFrame.\n",
      "Try using .loc[row_indexer,col_indexer] = value instead\n",
      "\n",
      "See the caveats in the documentation: https://pandas.pydata.org/pandas-docs/stable/user_guide/indexing.html#returning-a-view-versus-a-copy\n",
      "  train_tree[c] = tmp\n",
      "/opt/anaconda3/lib/python3.8/site-packages/pandas/core/indexing.py:671: SettingWithCopyWarning: \n",
      "A value is trying to be set on a copy of a slice from a DataFrame\n",
      "\n",
      "See the caveats in the documentation: https://pandas.pydata.org/pandas-docs/stable/user_guide/indexing.html#returning-a-view-versus-a-copy\n",
      "  self._setitem_with_indexer(indexer, value)\n",
      "<ipython-input-88-778fa00078e9>:10: SettingWithCopyWarning: \n",
      "A value is trying to be set on a copy of a slice from a DataFrame\n",
      "\n",
      "See the caveats in the documentation: https://pandas.pydata.org/pandas-docs/stable/user_guide/indexing.html#returning-a-view-versus-a-copy\n",
      "  train_tree[c].iloc[valid_idx] = train_tree[c].iloc[valid_idx].fillna(target_mean.mean())\n",
      "<ipython-input-88-778fa00078e9>:11: SettingWithCopyWarning: \n",
      "A value is trying to be set on a copy of a slice from a DataFrame.\n",
      "Try using .loc[row_indexer,col_indexer] = value instead\n",
      "\n",
      "See the caveats in the documentation: https://pandas.pydata.org/pandas-docs/stable/user_guide/indexing.html#returning-a-view-versus-a-copy\n",
      "  train_tree[c] = tmp\n",
      "/opt/anaconda3/lib/python3.8/site-packages/pandas/core/indexing.py:671: SettingWithCopyWarning: \n",
      "A value is trying to be set on a copy of a slice from a DataFrame\n",
      "\n",
      "See the caveats in the documentation: https://pandas.pydata.org/pandas-docs/stable/user_guide/indexing.html#returning-a-view-versus-a-copy\n",
      "  self._setitem_with_indexer(indexer, value)\n",
      "<ipython-input-88-778fa00078e9>:10: SettingWithCopyWarning: \n",
      "A value is trying to be set on a copy of a slice from a DataFrame\n",
      "\n",
      "See the caveats in the documentation: https://pandas.pydata.org/pandas-docs/stable/user_guide/indexing.html#returning-a-view-versus-a-copy\n",
      "  train_tree[c].iloc[valid_idx] = train_tree[c].iloc[valid_idx].fillna(target_mean.mean())\n",
      "<ipython-input-88-778fa00078e9>:11: SettingWithCopyWarning: \n",
      "A value is trying to be set on a copy of a slice from a DataFrame.\n",
      "Try using .loc[row_indexer,col_indexer] = value instead\n",
      "\n",
      "See the caveats in the documentation: https://pandas.pydata.org/pandas-docs/stable/user_guide/indexing.html#returning-a-view-versus-a-copy\n",
      "  train_tree[c] = tmp\n",
      "/opt/anaconda3/lib/python3.8/site-packages/pandas/core/indexing.py:671: SettingWithCopyWarning: \n",
      "A value is trying to be set on a copy of a slice from a DataFrame\n",
      "\n",
      "See the caveats in the documentation: https://pandas.pydata.org/pandas-docs/stable/user_guide/indexing.html#returning-a-view-versus-a-copy\n",
      "  self._setitem_with_indexer(indexer, value)\n",
      "<ipython-input-88-778fa00078e9>:10: SettingWithCopyWarning: \n",
      "A value is trying to be set on a copy of a slice from a DataFrame\n",
      "\n",
      "See the caveats in the documentation: https://pandas.pydata.org/pandas-docs/stable/user_guide/indexing.html#returning-a-view-versus-a-copy\n",
      "  train_tree[c].iloc[valid_idx] = train_tree[c].iloc[valid_idx].fillna(target_mean.mean())\n",
      "<ipython-input-88-778fa00078e9>:11: SettingWithCopyWarning: \n",
      "A value is trying to be set on a copy of a slice from a DataFrame.\n",
      "Try using .loc[row_indexer,col_indexer] = value instead\n",
      "\n",
      "See the caveats in the documentation: https://pandas.pydata.org/pandas-docs/stable/user_guide/indexing.html#returning-a-view-versus-a-copy\n",
      "  train_tree[c] = tmp\n",
      "/opt/anaconda3/lib/python3.8/site-packages/pandas/core/indexing.py:671: SettingWithCopyWarning: \n",
      "A value is trying to be set on a copy of a slice from a DataFrame\n",
      "\n",
      "See the caveats in the documentation: https://pandas.pydata.org/pandas-docs/stable/user_guide/indexing.html#returning-a-view-versus-a-copy\n",
      "  self._setitem_with_indexer(indexer, value)\n",
      "<ipython-input-88-778fa00078e9>:10: SettingWithCopyWarning: \n",
      "A value is trying to be set on a copy of a slice from a DataFrame\n",
      "\n",
      "See the caveats in the documentation: https://pandas.pydata.org/pandas-docs/stable/user_guide/indexing.html#returning-a-view-versus-a-copy\n",
      "  train_tree[c].iloc[valid_idx] = train_tree[c].iloc[valid_idx].fillna(target_mean.mean())\n",
      "<ipython-input-88-778fa00078e9>:11: SettingWithCopyWarning: \n",
      "A value is trying to be set on a copy of a slice from a DataFrame.\n",
      "Try using .loc[row_indexer,col_indexer] = value instead\n",
      "\n",
      "See the caveats in the documentation: https://pandas.pydata.org/pandas-docs/stable/user_guide/indexing.html#returning-a-view-versus-a-copy\n",
      "  train_tree[c] = tmp\n",
      "/opt/anaconda3/lib/python3.8/site-packages/pandas/core/indexing.py:671: SettingWithCopyWarning: \n",
      "A value is trying to be set on a copy of a slice from a DataFrame\n",
      "\n",
      "See the caveats in the documentation: https://pandas.pydata.org/pandas-docs/stable/user_guide/indexing.html#returning-a-view-versus-a-copy\n",
      "  self._setitem_with_indexer(indexer, value)\n",
      "<ipython-input-88-778fa00078e9>:10: SettingWithCopyWarning: \n",
      "A value is trying to be set on a copy of a slice from a DataFrame\n",
      "\n",
      "See the caveats in the documentation: https://pandas.pydata.org/pandas-docs/stable/user_guide/indexing.html#returning-a-view-versus-a-copy\n",
      "  train_tree[c].iloc[valid_idx] = train_tree[c].iloc[valid_idx].fillna(target_mean.mean())\n",
      "<ipython-input-88-778fa00078e9>:11: SettingWithCopyWarning: \n",
      "A value is trying to be set on a copy of a slice from a DataFrame.\n",
      "Try using .loc[row_indexer,col_indexer] = value instead\n",
      "\n",
      "See the caveats in the documentation: https://pandas.pydata.org/pandas-docs/stable/user_guide/indexing.html#returning-a-view-versus-a-copy\n",
      "  train_tree[c] = tmp\n",
      "/opt/anaconda3/lib/python3.8/site-packages/pandas/core/indexing.py:671: SettingWithCopyWarning: \n",
      "A value is trying to be set on a copy of a slice from a DataFrame\n",
      "\n",
      "See the caveats in the documentation: https://pandas.pydata.org/pandas-docs/stable/user_guide/indexing.html#returning-a-view-versus-a-copy\n",
      "  self._setitem_with_indexer(indexer, value)\n",
      "<ipython-input-88-778fa00078e9>:10: SettingWithCopyWarning: \n",
      "A value is trying to be set on a copy of a slice from a DataFrame\n",
      "\n",
      "See the caveats in the documentation: https://pandas.pydata.org/pandas-docs/stable/user_guide/indexing.html#returning-a-view-versus-a-copy\n",
      "  train_tree[c].iloc[valid_idx] = train_tree[c].iloc[valid_idx].fillna(target_mean.mean())\n",
      "<ipython-input-88-778fa00078e9>:11: SettingWithCopyWarning: \n",
      "A value is trying to be set on a copy of a slice from a DataFrame.\n",
      "Try using .loc[row_indexer,col_indexer] = value instead\n",
      "\n",
      "See the caveats in the documentation: https://pandas.pydata.org/pandas-docs/stable/user_guide/indexing.html#returning-a-view-versus-a-copy\n",
      "  train_tree[c] = tmp\n",
      "/opt/anaconda3/lib/python3.8/site-packages/pandas/core/indexing.py:671: SettingWithCopyWarning: \n",
      "A value is trying to be set on a copy of a slice from a DataFrame\n",
      "\n",
      "See the caveats in the documentation: https://pandas.pydata.org/pandas-docs/stable/user_guide/indexing.html#returning-a-view-versus-a-copy\n",
      "  self._setitem_with_indexer(indexer, value)\n",
      "<ipython-input-88-778fa00078e9>:10: SettingWithCopyWarning: \n",
      "A value is trying to be set on a copy of a slice from a DataFrame\n",
      "\n",
      "See the caveats in the documentation: https://pandas.pydata.org/pandas-docs/stable/user_guide/indexing.html#returning-a-view-versus-a-copy\n",
      "  train_tree[c].iloc[valid_idx] = train_tree[c].iloc[valid_idx].fillna(target_mean.mean())\n",
      "<ipython-input-88-778fa00078e9>:11: SettingWithCopyWarning: \n",
      "A value is trying to be set on a copy of a slice from a DataFrame.\n",
      "Try using .loc[row_indexer,col_indexer] = value instead\n",
      "\n",
      "See the caveats in the documentation: https://pandas.pydata.org/pandas-docs/stable/user_guide/indexing.html#returning-a-view-versus-a-copy\n",
      "  train_tree[c] = tmp\n",
      "/opt/anaconda3/lib/python3.8/site-packages/pandas/core/indexing.py:671: SettingWithCopyWarning: \n",
      "A value is trying to be set on a copy of a slice from a DataFrame\n",
      "\n",
      "See the caveats in the documentation: https://pandas.pydata.org/pandas-docs/stable/user_guide/indexing.html#returning-a-view-versus-a-copy\n",
      "  self._setitem_with_indexer(indexer, value)\n",
      "<ipython-input-88-778fa00078e9>:10: SettingWithCopyWarning: \n",
      "A value is trying to be set on a copy of a slice from a DataFrame\n",
      "\n",
      "See the caveats in the documentation: https://pandas.pydata.org/pandas-docs/stable/user_guide/indexing.html#returning-a-view-versus-a-copy\n",
      "  train_tree[c].iloc[valid_idx] = train_tree[c].iloc[valid_idx].fillna(target_mean.mean())\n",
      "<ipython-input-88-778fa00078e9>:11: SettingWithCopyWarning: \n",
      "A value is trying to be set on a copy of a slice from a DataFrame.\n",
      "Try using .loc[row_indexer,col_indexer] = value instead\n",
      "\n",
      "See the caveats in the documentation: https://pandas.pydata.org/pandas-docs/stable/user_guide/indexing.html#returning-a-view-versus-a-copy\n",
      "  train_tree[c] = tmp\n",
      "/opt/anaconda3/lib/python3.8/site-packages/pandas/core/indexing.py:671: SettingWithCopyWarning: \n",
      "A value is trying to be set on a copy of a slice from a DataFrame\n",
      "\n",
      "See the caveats in the documentation: https://pandas.pydata.org/pandas-docs/stable/user_guide/indexing.html#returning-a-view-versus-a-copy\n",
      "  self._setitem_with_indexer(indexer, value)\n",
      "<ipython-input-88-778fa00078e9>:10: SettingWithCopyWarning: \n",
      "A value is trying to be set on a copy of a slice from a DataFrame\n",
      "\n",
      "See the caveats in the documentation: https://pandas.pydata.org/pandas-docs/stable/user_guide/indexing.html#returning-a-view-versus-a-copy\n",
      "  train_tree[c].iloc[valid_idx] = train_tree[c].iloc[valid_idx].fillna(target_mean.mean())\n",
      "<ipython-input-88-778fa00078e9>:11: SettingWithCopyWarning: \n",
      "A value is trying to be set on a copy of a slice from a DataFrame.\n",
      "Try using .loc[row_indexer,col_indexer] = value instead\n",
      "\n",
      "See the caveats in the documentation: https://pandas.pydata.org/pandas-docs/stable/user_guide/indexing.html#returning-a-view-versus-a-copy\n",
      "  train_tree[c] = tmp\n",
      "/opt/anaconda3/lib/python3.8/site-packages/pandas/core/indexing.py:671: SettingWithCopyWarning: \n",
      "A value is trying to be set on a copy of a slice from a DataFrame\n",
      "\n",
      "See the caveats in the documentation: https://pandas.pydata.org/pandas-docs/stable/user_guide/indexing.html#returning-a-view-versus-a-copy\n",
      "  self._setitem_with_indexer(indexer, value)\n",
      "<ipython-input-88-778fa00078e9>:10: SettingWithCopyWarning: \n",
      "A value is trying to be set on a copy of a slice from a DataFrame\n",
      "\n",
      "See the caveats in the documentation: https://pandas.pydata.org/pandas-docs/stable/user_guide/indexing.html#returning-a-view-versus-a-copy\n",
      "  train_tree[c].iloc[valid_idx] = train_tree[c].iloc[valid_idx].fillna(target_mean.mean())\n",
      "<ipython-input-88-778fa00078e9>:11: SettingWithCopyWarning: \n",
      "A value is trying to be set on a copy of a slice from a DataFrame.\n",
      "Try using .loc[row_indexer,col_indexer] = value instead\n",
      "\n",
      "See the caveats in the documentation: https://pandas.pydata.org/pandas-docs/stable/user_guide/indexing.html#returning-a-view-versus-a-copy\n",
      "  train_tree[c] = tmp\n",
      "/opt/anaconda3/lib/python3.8/site-packages/pandas/core/indexing.py:671: SettingWithCopyWarning: \n",
      "A value is trying to be set on a copy of a slice from a DataFrame\n",
      "\n",
      "See the caveats in the documentation: https://pandas.pydata.org/pandas-docs/stable/user_guide/indexing.html#returning-a-view-versus-a-copy\n",
      "  self._setitem_with_indexer(indexer, value)\n",
      "<ipython-input-88-778fa00078e9>:10: SettingWithCopyWarning: \n",
      "A value is trying to be set on a copy of a slice from a DataFrame\n",
      "\n",
      "See the caveats in the documentation: https://pandas.pydata.org/pandas-docs/stable/user_guide/indexing.html#returning-a-view-versus-a-copy\n",
      "  train_tree[c].iloc[valid_idx] = train_tree[c].iloc[valid_idx].fillna(target_mean.mean())\n",
      "<ipython-input-88-778fa00078e9>:11: SettingWithCopyWarning: \n",
      "A value is trying to be set on a copy of a slice from a DataFrame.\n",
      "Try using .loc[row_indexer,col_indexer] = value instead\n",
      "\n",
      "See the caveats in the documentation: https://pandas.pydata.org/pandas-docs/stable/user_guide/indexing.html#returning-a-view-versus-a-copy\n",
      "  train_tree[c] = tmp\n",
      "/opt/anaconda3/lib/python3.8/site-packages/pandas/core/indexing.py:671: SettingWithCopyWarning: \n",
      "A value is trying to be set on a copy of a slice from a DataFrame\n",
      "\n",
      "See the caveats in the documentation: https://pandas.pydata.org/pandas-docs/stable/user_guide/indexing.html#returning-a-view-versus-a-copy\n",
      "  self._setitem_with_indexer(indexer, value)\n",
      "<ipython-input-88-778fa00078e9>:10: SettingWithCopyWarning: \n",
      "A value is trying to be set on a copy of a slice from a DataFrame\n",
      "\n",
      "See the caveats in the documentation: https://pandas.pydata.org/pandas-docs/stable/user_guide/indexing.html#returning-a-view-versus-a-copy\n",
      "  train_tree[c].iloc[valid_idx] = train_tree[c].iloc[valid_idx].fillna(target_mean.mean())\n",
      "<ipython-input-88-778fa00078e9>:11: SettingWithCopyWarning: \n",
      "A value is trying to be set on a copy of a slice from a DataFrame.\n",
      "Try using .loc[row_indexer,col_indexer] = value instead\n",
      "\n",
      "See the caveats in the documentation: https://pandas.pydata.org/pandas-docs/stable/user_guide/indexing.html#returning-a-view-versus-a-copy\n",
      "  train_tree[c] = tmp\n",
      "/opt/anaconda3/lib/python3.8/site-packages/pandas/core/indexing.py:671: SettingWithCopyWarning: \n",
      "A value is trying to be set on a copy of a slice from a DataFrame\n",
      "\n",
      "See the caveats in the documentation: https://pandas.pydata.org/pandas-docs/stable/user_guide/indexing.html#returning-a-view-versus-a-copy\n",
      "  self._setitem_with_indexer(indexer, value)\n",
      "<ipython-input-88-778fa00078e9>:10: SettingWithCopyWarning: \n",
      "A value is trying to be set on a copy of a slice from a DataFrame\n",
      "\n",
      "See the caveats in the documentation: https://pandas.pydata.org/pandas-docs/stable/user_guide/indexing.html#returning-a-view-versus-a-copy\n",
      "  train_tree[c].iloc[valid_idx] = train_tree[c].iloc[valid_idx].fillna(target_mean.mean())\n",
      "<ipython-input-88-778fa00078e9>:11: SettingWithCopyWarning: \n",
      "A value is trying to be set on a copy of a slice from a DataFrame.\n",
      "Try using .loc[row_indexer,col_indexer] = value instead\n",
      "\n",
      "See the caveats in the documentation: https://pandas.pydata.org/pandas-docs/stable/user_guide/indexing.html#returning-a-view-versus-a-copy\n",
      "  train_tree[c] = tmp\n",
      "/opt/anaconda3/lib/python3.8/site-packages/pandas/core/indexing.py:671: SettingWithCopyWarning: \n",
      "A value is trying to be set on a copy of a slice from a DataFrame\n",
      "\n",
      "See the caveats in the documentation: https://pandas.pydata.org/pandas-docs/stable/user_guide/indexing.html#returning-a-view-versus-a-copy\n",
      "  self._setitem_with_indexer(indexer, value)\n",
      "<ipython-input-88-778fa00078e9>:10: SettingWithCopyWarning: \n",
      "A value is trying to be set on a copy of a slice from a DataFrame\n",
      "\n",
      "See the caveats in the documentation: https://pandas.pydata.org/pandas-docs/stable/user_guide/indexing.html#returning-a-view-versus-a-copy\n",
      "  train_tree[c].iloc[valid_idx] = train_tree[c].iloc[valid_idx].fillna(target_mean.mean())\n",
      "<ipython-input-88-778fa00078e9>:11: SettingWithCopyWarning: \n",
      "A value is trying to be set on a copy of a slice from a DataFrame.\n",
      "Try using .loc[row_indexer,col_indexer] = value instead\n",
      "\n",
      "See the caveats in the documentation: https://pandas.pydata.org/pandas-docs/stable/user_guide/indexing.html#returning-a-view-versus-a-copy\n",
      "  train_tree[c] = tmp\n",
      "/opt/anaconda3/lib/python3.8/site-packages/pandas/core/indexing.py:671: SettingWithCopyWarning: \n",
      "A value is trying to be set on a copy of a slice from a DataFrame\n",
      "\n",
      "See the caveats in the documentation: https://pandas.pydata.org/pandas-docs/stable/user_guide/indexing.html#returning-a-view-versus-a-copy\n",
      "  self._setitem_with_indexer(indexer, value)\n",
      "<ipython-input-88-778fa00078e9>:10: SettingWithCopyWarning: \n",
      "A value is trying to be set on a copy of a slice from a DataFrame\n",
      "\n",
      "See the caveats in the documentation: https://pandas.pydata.org/pandas-docs/stable/user_guide/indexing.html#returning-a-view-versus-a-copy\n",
      "  train_tree[c].iloc[valid_idx] = train_tree[c].iloc[valid_idx].fillna(target_mean.mean())\n",
      "<ipython-input-88-778fa00078e9>:11: SettingWithCopyWarning: \n",
      "A value is trying to be set on a copy of a slice from a DataFrame.\n",
      "Try using .loc[row_indexer,col_indexer] = value instead\n",
      "\n",
      "See the caveats in the documentation: https://pandas.pydata.org/pandas-docs/stable/user_guide/indexing.html#returning-a-view-versus-a-copy\n",
      "  train_tree[c] = tmp\n",
      "/opt/anaconda3/lib/python3.8/site-packages/pandas/core/indexing.py:671: SettingWithCopyWarning: \n",
      "A value is trying to be set on a copy of a slice from a DataFrame\n",
      "\n",
      "See the caveats in the documentation: https://pandas.pydata.org/pandas-docs/stable/user_guide/indexing.html#returning-a-view-versus-a-copy\n",
      "  self._setitem_with_indexer(indexer, value)\n",
      "<ipython-input-88-778fa00078e9>:10: SettingWithCopyWarning: \n",
      "A value is trying to be set on a copy of a slice from a DataFrame\n",
      "\n",
      "See the caveats in the documentation: https://pandas.pydata.org/pandas-docs/stable/user_guide/indexing.html#returning-a-view-versus-a-copy\n",
      "  train_tree[c].iloc[valid_idx] = train_tree[c].iloc[valid_idx].fillna(target_mean.mean())\n",
      "<ipython-input-88-778fa00078e9>:11: SettingWithCopyWarning: \n",
      "A value is trying to be set on a copy of a slice from a DataFrame.\n",
      "Try using .loc[row_indexer,col_indexer] = value instead\n",
      "\n",
      "See the caveats in the documentation: https://pandas.pydata.org/pandas-docs/stable/user_guide/indexing.html#returning-a-view-versus-a-copy\n",
      "  train_tree[c] = tmp\n",
      "/opt/anaconda3/lib/python3.8/site-packages/pandas/core/indexing.py:671: SettingWithCopyWarning: \n",
      "A value is trying to be set on a copy of a slice from a DataFrame\n",
      "\n",
      "See the caveats in the documentation: https://pandas.pydata.org/pandas-docs/stable/user_guide/indexing.html#returning-a-view-versus-a-copy\n",
      "  self._setitem_with_indexer(indexer, value)\n",
      "<ipython-input-88-778fa00078e9>:10: SettingWithCopyWarning: \n",
      "A value is trying to be set on a copy of a slice from a DataFrame\n",
      "\n",
      "See the caveats in the documentation: https://pandas.pydata.org/pandas-docs/stable/user_guide/indexing.html#returning-a-view-versus-a-copy\n",
      "  train_tree[c].iloc[valid_idx] = train_tree[c].iloc[valid_idx].fillna(target_mean.mean())\n",
      "<ipython-input-88-778fa00078e9>:11: SettingWithCopyWarning: \n",
      "A value is trying to be set on a copy of a slice from a DataFrame.\n",
      "Try using .loc[row_indexer,col_indexer] = value instead\n",
      "\n",
      "See the caveats in the documentation: https://pandas.pydata.org/pandas-docs/stable/user_guide/indexing.html#returning-a-view-versus-a-copy\n",
      "  train_tree[c] = tmp\n",
      "/opt/anaconda3/lib/python3.8/site-packages/pandas/core/indexing.py:671: SettingWithCopyWarning: \n",
      "A value is trying to be set on a copy of a slice from a DataFrame\n",
      "\n",
      "See the caveats in the documentation: https://pandas.pydata.org/pandas-docs/stable/user_guide/indexing.html#returning-a-view-versus-a-copy\n",
      "  self._setitem_with_indexer(indexer, value)\n",
      "<ipython-input-88-778fa00078e9>:10: SettingWithCopyWarning: \n",
      "A value is trying to be set on a copy of a slice from a DataFrame\n",
      "\n",
      "See the caveats in the documentation: https://pandas.pydata.org/pandas-docs/stable/user_guide/indexing.html#returning-a-view-versus-a-copy\n",
      "  train_tree[c].iloc[valid_idx] = train_tree[c].iloc[valid_idx].fillna(target_mean.mean())\n",
      "<ipython-input-88-778fa00078e9>:11: SettingWithCopyWarning: \n",
      "A value is trying to be set on a copy of a slice from a DataFrame.\n",
      "Try using .loc[row_indexer,col_indexer] = value instead\n",
      "\n",
      "See the caveats in the documentation: https://pandas.pydata.org/pandas-docs/stable/user_guide/indexing.html#returning-a-view-versus-a-copy\n",
      "  train_tree[c] = tmp\n",
      "/opt/anaconda3/lib/python3.8/site-packages/pandas/core/indexing.py:671: SettingWithCopyWarning: \n",
      "A value is trying to be set on a copy of a slice from a DataFrame\n",
      "\n",
      "See the caveats in the documentation: https://pandas.pydata.org/pandas-docs/stable/user_guide/indexing.html#returning-a-view-versus-a-copy\n",
      "  self._setitem_with_indexer(indexer, value)\n",
      "<ipython-input-88-778fa00078e9>:10: SettingWithCopyWarning: \n",
      "A value is trying to be set on a copy of a slice from a DataFrame\n",
      "\n",
      "See the caveats in the documentation: https://pandas.pydata.org/pandas-docs/stable/user_guide/indexing.html#returning-a-view-versus-a-copy\n",
      "  train_tree[c].iloc[valid_idx] = train_tree[c].iloc[valid_idx].fillna(target_mean.mean())\n",
      "<ipython-input-88-778fa00078e9>:11: SettingWithCopyWarning: \n",
      "A value is trying to be set on a copy of a slice from a DataFrame.\n",
      "Try using .loc[row_indexer,col_indexer] = value instead\n",
      "\n",
      "See the caveats in the documentation: https://pandas.pydata.org/pandas-docs/stable/user_guide/indexing.html#returning-a-view-versus-a-copy\n",
      "  train_tree[c] = tmp\n",
      "/opt/anaconda3/lib/python3.8/site-packages/pandas/core/indexing.py:671: SettingWithCopyWarning: \n",
      "A value is trying to be set on a copy of a slice from a DataFrame\n",
      "\n",
      "See the caveats in the documentation: https://pandas.pydata.org/pandas-docs/stable/user_guide/indexing.html#returning-a-view-versus-a-copy\n",
      "  self._setitem_with_indexer(indexer, value)\n",
      "<ipython-input-88-778fa00078e9>:10: SettingWithCopyWarning: \n",
      "A value is trying to be set on a copy of a slice from a DataFrame\n",
      "\n",
      "See the caveats in the documentation: https://pandas.pydata.org/pandas-docs/stable/user_guide/indexing.html#returning-a-view-versus-a-copy\n",
      "  train_tree[c].iloc[valid_idx] = train_tree[c].iloc[valid_idx].fillna(target_mean.mean())\n",
      "<ipython-input-88-778fa00078e9>:11: SettingWithCopyWarning: \n",
      "A value is trying to be set on a copy of a slice from a DataFrame.\n",
      "Try using .loc[row_indexer,col_indexer] = value instead\n",
      "\n",
      "See the caveats in the documentation: https://pandas.pydata.org/pandas-docs/stable/user_guide/indexing.html#returning-a-view-versus-a-copy\n",
      "  train_tree[c] = tmp\n",
      "/opt/anaconda3/lib/python3.8/site-packages/pandas/core/indexing.py:671: SettingWithCopyWarning: \n",
      "A value is trying to be set on a copy of a slice from a DataFrame\n",
      "\n",
      "See the caveats in the documentation: https://pandas.pydata.org/pandas-docs/stable/user_guide/indexing.html#returning-a-view-versus-a-copy\n",
      "  self._setitem_with_indexer(indexer, value)\n",
      "<ipython-input-88-778fa00078e9>:10: SettingWithCopyWarning: \n",
      "A value is trying to be set on a copy of a slice from a DataFrame\n",
      "\n",
      "See the caveats in the documentation: https://pandas.pydata.org/pandas-docs/stable/user_guide/indexing.html#returning-a-view-versus-a-copy\n",
      "  train_tree[c].iloc[valid_idx] = train_tree[c].iloc[valid_idx].fillna(target_mean.mean())\n",
      "<ipython-input-88-778fa00078e9>:11: SettingWithCopyWarning: \n",
      "A value is trying to be set on a copy of a slice from a DataFrame.\n",
      "Try using .loc[row_indexer,col_indexer] = value instead\n",
      "\n",
      "See the caveats in the documentation: https://pandas.pydata.org/pandas-docs/stable/user_guide/indexing.html#returning-a-view-versus-a-copy\n",
      "  train_tree[c] = tmp\n",
      "/opt/anaconda3/lib/python3.8/site-packages/pandas/core/indexing.py:671: SettingWithCopyWarning: \n",
      "A value is trying to be set on a copy of a slice from a DataFrame\n",
      "\n",
      "See the caveats in the documentation: https://pandas.pydata.org/pandas-docs/stable/user_guide/indexing.html#returning-a-view-versus-a-copy\n",
      "  self._setitem_with_indexer(indexer, value)\n",
      "<ipython-input-88-778fa00078e9>:10: SettingWithCopyWarning: \n",
      "A value is trying to be set on a copy of a slice from a DataFrame\n",
      "\n",
      "See the caveats in the documentation: https://pandas.pydata.org/pandas-docs/stable/user_guide/indexing.html#returning-a-view-versus-a-copy\n",
      "  train_tree[c].iloc[valid_idx] = train_tree[c].iloc[valid_idx].fillna(target_mean.mean())\n",
      "<ipython-input-88-778fa00078e9>:11: SettingWithCopyWarning: \n",
      "A value is trying to be set on a copy of a slice from a DataFrame.\n",
      "Try using .loc[row_indexer,col_indexer] = value instead\n",
      "\n",
      "See the caveats in the documentation: https://pandas.pydata.org/pandas-docs/stable/user_guide/indexing.html#returning-a-view-versus-a-copy\n",
      "  train_tree[c] = tmp\n"
     ]
    }
   ],
   "source": [
    "#訓練データのターゲットエンコーディング\n",
    "n_split = 5\n",
    "\n",
    "skf = StratifiedKFold(n_splits=n_split,shuffle=True,random_state=0)\n",
    "for c in cat_columns:\n",
    "    tmp = np.repeat(np.nan,train_tree.shape[0])\n",
    "    for train_idx,valid_idx in skf.split(train_tree,train_tree[\"y\"]):\n",
    "        target_mean = train_tree.iloc[train_idx].groupby(c)[\"y\"].mean()\n",
    "        tmp[valid_idx] = train_tree[c].iloc[valid_idx].map(target_mean)\n",
    "        train_tree[c].iloc[valid_idx] = train_tree[c].iloc[valid_idx].fillna(target_mean.mean())\n",
    "    train_tree[c] = tmp"
   ]
  },
  {
   "cell_type": "code",
   "execution_count": 89,
   "metadata": {},
   "outputs": [
    {
     "name": "stderr",
     "output_type": "stream",
     "text": [
      "/opt/anaconda3/lib/python3.8/site-packages/pandas/core/frame.py:2963: SettingWithCopyWarning: \n",
      "A value is trying to be set on a copy of a slice from a DataFrame.\n",
      "Try using .loc[row_indexer,col_indexer] = value instead\n",
      "\n",
      "See the caveats in the documentation: https://pandas.pydata.org/pandas-docs/stable/user_guide/indexing.html#returning-a-view-versus-a-copy\n",
      "  self[k1] = value[k2]\n"
     ]
    }
   ],
   "source": [
    "train_linear[cat_columns] = train_tree[cat_columns]\n",
    "test_linear[cat_columns] = test_tree[cat_columns]"
   ]
  },
  {
   "cell_type": "code",
   "execution_count": null,
   "metadata": {},
   "outputs": [],
   "source": []
  },
  {
   "cell_type": "code",
   "execution_count": 90,
   "metadata": {},
   "outputs": [],
   "source": [
    "test_linear = test_linear.drop(\"y\",axis=1)\n",
    "test_tree = test_tree.drop(\"y\",axis=1)"
   ]
  },
  {
   "cell_type": "code",
   "execution_count": 91,
   "metadata": {},
   "outputs": [
    {
     "name": "stderr",
     "output_type": "stream",
     "text": [
      "<ipython-input-91-84b9be247a94>:2: SettingWithCopyWarning: \n",
      "A value is trying to be set on a copy of a slice from a DataFrame.\n",
      "Try using .loc[row_indexer,col_indexer] = value instead\n",
      "\n",
      "See the caveats in the documentation: https://pandas.pydata.org/pandas-docs/stable/user_guide/indexing.html#returning-a-view-versus-a-copy\n",
      "  train_linear[\"jobXmonth\"] = train_linear[\"jobXmonth\"].fillna(train_linear[\"jobXmonth\"].median())\n",
      "<ipython-input-91-84b9be247a94>:3: SettingWithCopyWarning: \n",
      "A value is trying to be set on a copy of a slice from a DataFrame.\n",
      "Try using .loc[row_indexer,col_indexer] = value instead\n",
      "\n",
      "See the caveats in the documentation: https://pandas.pydata.org/pandas-docs/stable/user_guide/indexing.html#returning-a-view-versus-a-copy\n",
      "  train_linear[\"duration/num\"] = train_linear[\"duration/num\"].fillna(train_linear[\"duration/num\"].median())\n",
      "<ipython-input-91-84b9be247a94>:7: SettingWithCopyWarning: \n",
      "A value is trying to be set on a copy of a slice from a DataFrame.\n",
      "Try using .loc[row_indexer,col_indexer] = value instead\n",
      "\n",
      "See the caveats in the documentation: https://pandas.pydata.org/pandas-docs/stable/user_guide/indexing.html#returning-a-view-versus-a-copy\n",
      "  train_tree[\"jobXmonth\"] = train_linear[\"jobXmonth\"]\n",
      "<ipython-input-91-84b9be247a94>:8: SettingWithCopyWarning: \n",
      "A value is trying to be set on a copy of a slice from a DataFrame.\n",
      "Try using .loc[row_indexer,col_indexer] = value instead\n",
      "\n",
      "See the caveats in the documentation: https://pandas.pydata.org/pandas-docs/stable/user_guide/indexing.html#returning-a-view-versus-a-copy\n",
      "  train_tree[\"duration/num\"] = train_linear[\"duration/num\"]\n"
     ]
    }
   ],
   "source": [
    "#ターゲットエンコーディングで欠損値となってしまったデータは中央値で埋める\n",
    "train_linear[\"jobXmonth\"] = train_linear[\"jobXmonth\"].fillna(train_linear[\"jobXmonth\"].median())\n",
    "train_linear[\"duration/num\"] = train_linear[\"duration/num\"].fillna(train_linear[\"duration/num\"].median())\n",
    "test_linear[\"jobXmonth\"] = test_linear[\"jobXmonth\"].fillna(test_linear[\"jobXmonth\"].median())\n",
    "test_linear[\"duration/num\"] = test_linear[\"duration/num\"].fillna(test_linear[\"duration/num\"].median())\n",
    "\n",
    "train_tree[\"jobXmonth\"] = train_linear[\"jobXmonth\"]\n",
    "train_tree[\"duration/num\"] = train_linear[\"duration/num\"]\n",
    "test_tree[\"jobXmonth\"] = test_linear[\"jobXmonth\"]\n",
    "test_tree[\"duration/num\"] = test_linear[\"duration/num\"]\n",
    "\n",
    "train_test_linear = pd.concat([train_linear,test_linear],axis=0)\n",
    "train_test_tree = pd.concat([train_tree,test_tree],axis=0)\n"
   ]
  },
  {
   "cell_type": "code",
   "execution_count": 92,
   "metadata": {},
   "outputs": [
    {
     "name": "stdout",
     "output_type": "stream",
     "text": [
      "<class 'pandas.core.frame.DataFrame'>\n",
      "Int64Index: 27100 entries, 0 to 27099\n",
      "Data columns (total 65 columns):\n",
      " #   Column             Non-Null Count  Dtype  \n",
      "---  ------             --------------  -----  \n",
      " 0   job                27100 non-null  int64  \n",
      " 1   marital            27100 non-null  int64  \n",
      " 2   education          27100 non-null  int64  \n",
      " 3   default            27100 non-null  int64  \n",
      " 4   housing            27100 non-null  int64  \n",
      " 5   loan               27100 non-null  int64  \n",
      " 6   contact            27100 non-null  int64  \n",
      " 7   month              27100 non-null  int64  \n",
      " 8   campaign           27100 non-null  int64  \n",
      " 9   previous           27100 non-null  int64  \n",
      " 10  poutcome           27100 non-null  int64  \n",
      " 11  edu_unknown_flg    27100 non-null  int64  \n",
      " 12  balance_minus_flg  27100 non-null  int64  \n",
      " 13  con_unknown_flg    27100 non-null  int64  \n",
      " 14  duration_zero_flg  27100 non-null  int64  \n",
      " 15  pdays_flg          27100 non-null  int64  \n",
      " 16  pou_unknown_flg    27100 non-null  int64  \n",
      " 17  age                27100 non-null  float64\n",
      " 18  balance            27100 non-null  float64\n",
      " 19  day                27100 non-null  float64\n",
      " 20  month+day          27100 non-null  float64\n",
      " 21  duration_sc        27100 non-null  float64\n",
      " 22  pdays_sc           27100 non-null  float64\n",
      " 23  prob_1             27100 non-null  float64\n",
      " 24  prob_2             27100 non-null  float64\n",
      " 25  prob_3             27100 non-null  float64\n",
      " 26  prob_4             27100 non-null  float64\n",
      " 27  prob_5             27100 non-null  float64\n",
      " 28  prob_6             27100 non-null  float64\n",
      " 29  prob_7             27100 non-null  float64\n",
      " 30  prob_8             27100 non-null  float64\n",
      " 31  prob_9             27100 non-null  float64\n",
      " 32  y                  27100 non-null  float64\n",
      " 33  status_distance    27100 non-null  float64\n",
      " 34  behavier_distance  27100 non-null  float64\n",
      " 35  status_cluster     27100 non-null  float64\n",
      " 36  behavier_cluster   27100 non-null  float64\n",
      " 37  age_binned         27100 non-null  float64\n",
      " 38  balance_binned     27100 non-null  float64\n",
      " 39  duration_binned    27100 non-null  float64\n",
      " 40  pdays_binned       27100 non-null  float64\n",
      " 41  ageXbalance        27100 non-null  float64\n",
      " 42  eduXjob            27100 non-null  float64\n",
      " 43  ageXjob            27100 non-null  float64\n",
      " 44  balanceXjob        27100 non-null  float64\n",
      " 45  ageXedu            27100 non-null  float64\n",
      " 46  ageXcontact        27100 non-null  float64\n",
      " 47  balanceXcontact    27100 non-null  float64\n",
      " 48  durationXcontact   27100 non-null  float64\n",
      " 49  durationXpoutcome  27100 non-null  float64\n",
      " 50  pdaysXpoutcome     27100 non-null  float64\n",
      " 51  jobXmonth          27100 non-null  float64\n",
      " 52  ageXmarital        27100 non-null  float64\n",
      " 53  jobXmarital        27100 non-null  float64\n",
      " 54  eduXmarital        27100 non-null  float64\n",
      " 55  eduXcontact        27100 non-null  float64\n",
      " 56  eduXpoutcome       27100 non-null  float64\n",
      " 57  jobXpoutcome       27100 non-null  float64\n",
      " 58  eduXbalance        27100 non-null  float64\n",
      " 59  balanceXmarital    27100 non-null  float64\n",
      " 60  balance/age        27100 non-null  float64\n",
      " 61  campaign+previous  27100 non-null  float64\n",
      " 62  duration/num       27100 non-null  float64\n",
      " 63  durationXcampaign  27100 non-null  float64\n",
      " 64  durationXage       27100 non-null  float64\n",
      "dtypes: float64(48), int64(17)\n",
      "memory usage: 13.6 MB\n"
     ]
    }
   ],
   "source": [
    "train_tree.info()"
   ]
  },
  {
   "cell_type": "code",
   "execution_count": 93,
   "metadata": {},
   "outputs": [],
   "source": [
    "#スタッキングで得た予測値（分類確率）を標準化したが精度が下がったため不採用\n",
    "#from sklearn.preprocessing import StandardScaler,PowerTransformer"
   ]
  },
  {
   "cell_type": "code",
   "execution_count": 94,
   "metadata": {},
   "outputs": [],
   "source": [
    "#sc = StandardScaler()"
   ]
  },
  {
   "cell_type": "code",
   "execution_count": 95,
   "metadata": {},
   "outputs": [],
   "source": [
    "#num_columns = [\"prob_1\",\"prob_2\",\"prob_3\",\"prob_4\",\"prob_5\",\"prob_6\",\"prob_7\",\"prob_8\",\"prob_9\"]"
   ]
  },
  {
   "cell_type": "code",
   "execution_count": 96,
   "metadata": {},
   "outputs": [],
   "source": [
    "#train_test_tree[num_columns].describe()"
   ]
  },
  {
   "cell_type": "code",
   "execution_count": 97,
   "metadata": {},
   "outputs": [],
   "source": [
    "#sns.distplot(train_test_tree[\"prob_1\"])"
   ]
  },
  {
   "cell_type": "code",
   "execution_count": 98,
   "metadata": {},
   "outputs": [],
   "source": [
    "#train_test_tree[\"prob_5\"] = train_test_tree[\"prob_5\"] + 0.000300\n",
    "#train_test_tree[\"prob_9\"] = train_test_tree[\"prob_9\"] + 0.000300"
   ]
  },
  {
   "cell_type": "code",
   "execution_count": 99,
   "metadata": {},
   "outputs": [],
   "source": [
    "#pt = PowerTransformer(method=\"box-cox\")\n",
    "#pt.fit(train_test_tree[num_columns])\n",
    "#rain_test_tree[num_columns] = pt.transform(train_test_tree[num_columns])\n",
    "#train_test_linear[num_columns] = train_test_tree[num_columns]"
   ]
  },
  {
   "cell_type": "code",
   "execution_count": 100,
   "metadata": {},
   "outputs": [],
   "source": [
    "#train_test_linear[num_columns].describe()"
   ]
  },
  {
   "cell_type": "code",
   "execution_count": 101,
   "metadata": {},
   "outputs": [],
   "source": [
    "#train_test_tree[num_columns].describe()"
   ]
  },
  {
   "cell_type": "code",
   "execution_count": 102,
   "metadata": {},
   "outputs": [],
   "source": [
    "#sns.distplot(train_test_tree[\"prob_9\"])"
   ]
  },
  {
   "cell_type": "code",
   "execution_count": 103,
   "metadata": {},
   "outputs": [],
   "source": [
    "#sc.fit(train_test_tree[num_columns])\n",
    "#train_test_tree[num_columns] = pd.DataFrame(sc.transform(train_test_tree[num_columns]),columns = num_columns)\n",
    "#train_test_linear[num_columns] = pd.DataFrame(sc.transform(train_test_linear[num_columns]),columns = num_columns)\n",
    "\n",
    "#train_linear = train_test_linear[:27100]\n",
    "#test_linear = train_test_linear[27100:]\n",
    "#train_tree = train_test_tree[:27100]\n",
    "#test_tree = train_test_tree[27100:]\n"
   ]
  },
  {
   "cell_type": "code",
   "execution_count": 104,
   "metadata": {},
   "outputs": [],
   "source": [
    "#train_linear[num_columns].describe()"
   ]
  },
  {
   "cell_type": "code",
   "execution_count": 105,
   "metadata": {},
   "outputs": [],
   "source": [
    "#sns.distplot(train_tree[\"prob_9\"])"
   ]
  },
  {
   "cell_type": "code",
   "execution_count": 106,
   "metadata": {},
   "outputs": [],
   "source": [
    "#test_linear = test_linear.drop(\"y\",axis=1)\n",
    "#test_tree = test_tree.drop(\"y\",axis=1)"
   ]
  },
  {
   "cell_type": "code",
   "execution_count": 107,
   "metadata": {},
   "outputs": [],
   "source": [
    "train_linear.to_csv(\"../../data/signate-bankcustomer/train_linear3.csv\",index=False)\n",
    "test_linear.to_csv(\"../../data/signate-bankcustomer/test_linear3.csv\",index=False)\n",
    "\n",
    "train_tree.to_csv(\"../../data/signate-bankcustomer/train_tree3.csv\",index=False)\n",
    "test_tree.to_csv(\"../../data/signate-bankcustomer/test_tree3.csv\",index=False)"
   ]
  },
  {
   "cell_type": "code",
   "execution_count": 108,
   "metadata": {},
   "outputs": [
    {
     "data": {
      "text/plain": [
       "0"
      ]
     },
     "execution_count": 108,
     "metadata": {},
     "output_type": "execute_result"
    }
   ],
   "source": [
    "train_linear.isnull().sum().sum()"
   ]
  },
  {
   "cell_type": "code",
   "execution_count": 109,
   "metadata": {},
   "outputs": [
    {
     "data": {
      "text/plain": [
       "0"
      ]
     },
     "execution_count": 109,
     "metadata": {},
     "output_type": "execute_result"
    }
   ],
   "source": [
    "test_linear.isnull().sum().sum()"
   ]
  },
  {
   "cell_type": "code",
   "execution_count": 110,
   "metadata": {},
   "outputs": [
    {
     "data": {
      "text/plain": [
       "0"
      ]
     },
     "execution_count": 110,
     "metadata": {},
     "output_type": "execute_result"
    }
   ],
   "source": [
    "train_tree.isnull().sum().sum()"
   ]
  },
  {
   "cell_type": "code",
   "execution_count": 111,
   "metadata": {},
   "outputs": [
    {
     "data": {
      "text/plain": [
       "0"
      ]
     },
     "execution_count": 111,
     "metadata": {},
     "output_type": "execute_result"
    }
   ],
   "source": [
    "test_tree.isnull().sum().sum()"
   ]
  },
  {
   "cell_type": "code",
   "execution_count": null,
   "metadata": {},
   "outputs": [],
   "source": []
  },
  {
   "cell_type": "code",
   "execution_count": null,
   "metadata": {},
   "outputs": [],
   "source": []
  }
 ],
 "metadata": {
  "kernelspec": {
   "display_name": "Python 3",
   "language": "python",
   "name": "python3"
  },
  "language_info": {
   "codemirror_mode": {
    "name": "ipython",
    "version": 3
   },
   "file_extension": ".py",
   "mimetype": "text/x-python",
   "name": "python",
   "nbconvert_exporter": "python",
   "pygments_lexer": "ipython3",
   "version": "3.8.3"
  }
 },
 "nbformat": 4,
 "nbformat_minor": 4
}
