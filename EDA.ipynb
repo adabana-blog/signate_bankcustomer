{
 "cells": [
  {
   "cell_type": "code",
   "execution_count": 1,
   "metadata": {},
   "outputs": [],
   "source": [
    "import numpy as np\n",
    "import pandas as pd\n",
    "import matplotlib.pyplot as plt\n",
    "import seaborn as sns\n",
    "from sklearn.preprocessing import PowerTransformer\n",
    "from scipy.stats import boxcox"
   ]
  },
  {
   "cell_type": "code",
   "execution_count": 2,
   "metadata": {},
   "outputs": [],
   "source": [
    "from sklearn.preprocessing import LabelEncoder"
   ]
  },
  {
   "cell_type": "code",
   "execution_count": 3,
   "metadata": {},
   "outputs": [],
   "source": [
    "train = pd.read_csv(\"../../data/signate-bankcustomer/train.csv\")\n",
    "test = pd.read_csv(\"../../data/signate-bankcustomer/test.csv\")\n",
    "sample_sub = pd.read_csv(\"../../data/signate-bankcustomer/submit_sample.csv\")"
   ]
  },
  {
   "cell_type": "code",
   "execution_count": 4,
   "metadata": {},
   "outputs": [
    {
     "name": "stdout",
     "output_type": "stream",
     "text": [
      "<class 'pandas.core.frame.DataFrame'>\n",
      "RangeIndex: 27100 entries, 0 to 27099\n",
      "Data columns (total 18 columns):\n",
      " #   Column     Non-Null Count  Dtype \n",
      "---  ------     --------------  ----- \n",
      " 0   id         27100 non-null  int64 \n",
      " 1   age        27100 non-null  int64 \n",
      " 2   job        27100 non-null  object\n",
      " 3   marital    27100 non-null  object\n",
      " 4   education  27100 non-null  object\n",
      " 5   default    27100 non-null  object\n",
      " 6   balance    27100 non-null  int64 \n",
      " 7   housing    27100 non-null  object\n",
      " 8   loan       27100 non-null  object\n",
      " 9   contact    27100 non-null  object\n",
      " 10  day        27100 non-null  int64 \n",
      " 11  month      27100 non-null  object\n",
      " 12  duration   27100 non-null  int64 \n",
      " 13  campaign   27100 non-null  int64 \n",
      " 14  pdays      27100 non-null  int64 \n",
      " 15  previous   27100 non-null  int64 \n",
      " 16  poutcome   27100 non-null  object\n",
      " 17  y          27100 non-null  int64 \n",
      "dtypes: int64(9), object(9)\n",
      "memory usage: 3.7+ MB\n"
     ]
    }
   ],
   "source": [
    "train.info()"
   ]
  },
  {
   "cell_type": "code",
   "execution_count": 5,
   "metadata": {},
   "outputs": [
    {
     "name": "stdout",
     "output_type": "stream",
     "text": [
      "<class 'pandas.core.frame.DataFrame'>\n",
      "RangeIndex: 18050 entries, 0 to 18049\n",
      "Data columns (total 17 columns):\n",
      " #   Column     Non-Null Count  Dtype \n",
      "---  ------     --------------  ----- \n",
      " 0   id         18050 non-null  int64 \n",
      " 1   age        18050 non-null  int64 \n",
      " 2   job        18050 non-null  object\n",
      " 3   marital    18050 non-null  object\n",
      " 4   education  18050 non-null  object\n",
      " 5   default    18050 non-null  object\n",
      " 6   balance    18050 non-null  int64 \n",
      " 7   housing    18050 non-null  object\n",
      " 8   loan       18050 non-null  object\n",
      " 9   contact    18050 non-null  object\n",
      " 10  day        18050 non-null  int64 \n",
      " 11  month      18050 non-null  object\n",
      " 12  duration   18050 non-null  int64 \n",
      " 13  campaign   18050 non-null  int64 \n",
      " 14  pdays      18050 non-null  int64 \n",
      " 15  previous   18050 non-null  int64 \n",
      " 16  poutcome   18050 non-null  object\n",
      "dtypes: int64(8), object(9)\n",
      "memory usage: 2.3+ MB\n"
     ]
    }
   ],
   "source": [
    "test.info()"
   ]
  },
  {
   "cell_type": "code",
   "execution_count": 6,
   "metadata": {},
   "outputs": [],
   "source": [
    "train_test = pd.concat([train,test],axis=0)"
   ]
  },
  {
   "cell_type": "code",
   "execution_count": 7,
   "metadata": {},
   "outputs": [],
   "source": [
    "train_test[\"y\"] = train_test[\"y\"].fillna(-999)"
   ]
  },
  {
   "cell_type": "code",
   "execution_count": null,
   "metadata": {},
   "outputs": [],
   "source": []
  },
  {
   "cell_type": "markdown",
   "metadata": {},
   "source": [
    "## 1.age"
   ]
  },
  {
   "cell_type": "code",
   "execution_count": 8,
   "metadata": {},
   "outputs": [],
   "source": [
    "train_test[\"age\"] = np.clip(train_test[\"age\"], train[\"age\"].min(), train[\"age\"].max())"
   ]
  },
  {
   "cell_type": "code",
   "execution_count": 9,
   "metadata": {},
   "outputs": [],
   "source": [
    "train_test[\"age\"] = np.log(train_test[\"age\"])\n",
    "train = train_test.loc[train_test[\"y\"]!=-999]\n",
    "test = train_test.loc[train_test[\"y\"]==-999]"
   ]
  },
  {
   "cell_type": "code",
   "execution_count": null,
   "metadata": {},
   "outputs": [],
   "source": []
  },
  {
   "cell_type": "markdown",
   "metadata": {},
   "source": [
    "## 2.job"
   ]
  },
  {
   "cell_type": "code",
   "execution_count": 10,
   "metadata": {},
   "outputs": [
    {
     "name": "stderr",
     "output_type": "stream",
     "text": [
      "/opt/anaconda3/lib/python3.8/site-packages/pandas/core/indexing.py:966: SettingWithCopyWarning: \n",
      "A value is trying to be set on a copy of a slice from a DataFrame.\n",
      "Try using .loc[row_indexer,col_indexer] = value instead\n",
      "\n",
      "See the caveats in the documentation: https://pandas.pydata.org/pandas-docs/stable/user_guide/indexing.html#returning-a-view-versus-a-copy\n",
      "  self.obj[item] = s\n"
     ]
    }
   ],
   "source": [
    "test.loc[test[\"job\"]==\"unknown\",\"job\"] = \"blue-collar\"\n",
    "train_test = pd.concat([train,test],axis=0)"
   ]
  },
  {
   "cell_type": "code",
   "execution_count": 11,
   "metadata": {},
   "outputs": [],
   "source": [
    "#ラベルエンコーディングよりカウントエンコーディングの方が精度が良かったので変更\n",
    "#columns = train_test[\"job\"].unique()\n",
    "#le = LabelEncoder()\n",
    "#encoded = le.fit_transform(train_test[\"job\"].values)\n",
    "#decoded = le.inverse_transform(encoded)\n",
    "#train_test['job'] = pd.to_numeric(encoded)"
   ]
  },
  {
   "cell_type": "code",
   "execution_count": 12,
   "metadata": {},
   "outputs": [],
   "source": [
    "#pd.DataFrame(\n",
    "#    {'変換前': columns,\n",
    "#     '変換後': le.transform(columns)})"
   ]
  },
  {
   "cell_type": "code",
   "execution_count": 13,
   "metadata": {},
   "outputs": [],
   "source": [
    "train_test[\"job\"] = train_test[\"job\"].map(train_test[\"job\"].value_counts())"
   ]
  },
  {
   "cell_type": "code",
   "execution_count": 14,
   "metadata": {},
   "outputs": [],
   "source": [
    "train = train_test.loc[train_test[\"y\"]!=-999]\n",
    "test = train_test.loc[train_test[\"y\"]==-999]"
   ]
  },
  {
   "cell_type": "markdown",
   "metadata": {},
   "source": [
    "## 3.marital"
   ]
  },
  {
   "cell_type": "code",
   "execution_count": 15,
   "metadata": {},
   "outputs": [],
   "source": [
    "train_test[\"marital\"] = train_test[\"marital\"].map(pd.Series({\"single\":0,\"divorced\":1,\"married\":2}))\n",
    "train = train_test.loc[train_test[\"y\"]!=-999]\n",
    "test = train_test.loc[train_test[\"y\"]==-999]"
   ]
  },
  {
   "cell_type": "markdown",
   "metadata": {},
   "source": [
    "## 4.education"
   ]
  },
  {
   "cell_type": "code",
   "execution_count": 16,
   "metadata": {},
   "outputs": [],
   "source": [
    "#欠損値にも意味がありそうだったので欠損値フラグを作成\n",
    "train_test[\"edu_unknown_flg\"] = train_test[\"education\"].apply(lambda x:1 if x==\"unknown\" else 0)"
   ]
  },
  {
   "cell_type": "code",
   "execution_count": 17,
   "metadata": {},
   "outputs": [],
   "source": [
    "#label encoding\n",
    "#train_test[\"education\"] = train_test[\"education\"].map(pd.Series({\"unknown\":0,\"primary\":1,\"secondary\":2,\"tertiary\":3}))\n",
    "\n",
    "#freq encoding\n",
    "train_test[\"education\"] = train_test[\"education\"].map(train_test[\"education\"].value_counts())\n",
    "\n",
    "train = train_test.loc[train_test[\"y\"]!=-999]\n",
    "test = train_test.loc[train_test[\"y\"]==-999]"
   ]
  },
  {
   "cell_type": "markdown",
   "metadata": {},
   "source": [
    "## 5.default"
   ]
  },
  {
   "cell_type": "code",
   "execution_count": 18,
   "metadata": {},
   "outputs": [
    {
     "data": {
      "text/plain": [
       "no     27090\n",
       "yes       10\n",
       "Name: default, dtype: int64"
      ]
     },
     "execution_count": 18,
     "metadata": {},
     "output_type": "execute_result"
    }
   ],
   "source": [
    "train[\"default\"].value_counts()"
   ]
  },
  {
   "cell_type": "code",
   "execution_count": 19,
   "metadata": {},
   "outputs": [
    {
     "data": {
      "text/plain": [
       "no     18046\n",
       "yes        4\n",
       "Name: default, dtype: int64"
      ]
     },
     "execution_count": 19,
     "metadata": {},
     "output_type": "execute_result"
    }
   ],
   "source": [
    "test[\"default\"].value_counts()"
   ]
  },
  {
   "cell_type": "code",
   "execution_count": 20,
   "metadata": {},
   "outputs": [],
   "source": [
    "columns = train_test[\"default\"].unique()\n",
    "le = LabelEncoder()\n",
    "encoded = le.fit_transform(train_test[\"default\"].values)\n",
    "decoded = le.inverse_transform(encoded)\n",
    "train_test['default'] = pd.to_numeric(encoded)\n",
    "train = train_test.loc[train_test[\"y\"]!=-999]\n",
    "test = train_test.loc[train_test[\"y\"]==-999]"
   ]
  },
  {
   "cell_type": "code",
   "execution_count": 21,
   "metadata": {},
   "outputs": [
    {
     "data": {
      "text/html": [
       "<div>\n",
       "<style scoped>\n",
       "    .dataframe tbody tr th:only-of-type {\n",
       "        vertical-align: middle;\n",
       "    }\n",
       "\n",
       "    .dataframe tbody tr th {\n",
       "        vertical-align: top;\n",
       "    }\n",
       "\n",
       "    .dataframe thead th {\n",
       "        text-align: right;\n",
       "    }\n",
       "</style>\n",
       "<table border=\"1\" class=\"dataframe\">\n",
       "  <thead>\n",
       "    <tr style=\"text-align: right;\">\n",
       "      <th></th>\n",
       "      <th>変換前</th>\n",
       "      <th>変換後</th>\n",
       "    </tr>\n",
       "  </thead>\n",
       "  <tbody>\n",
       "    <tr>\n",
       "      <th>0</th>\n",
       "      <td>no</td>\n",
       "      <td>0</td>\n",
       "    </tr>\n",
       "    <tr>\n",
       "      <th>1</th>\n",
       "      <td>yes</td>\n",
       "      <td>1</td>\n",
       "    </tr>\n",
       "  </tbody>\n",
       "</table>\n",
       "</div>"
      ],
      "text/plain": [
       "   変換前  変換後\n",
       "0   no    0\n",
       "1  yes    1"
      ]
     },
     "execution_count": 21,
     "metadata": {},
     "output_type": "execute_result"
    }
   ],
   "source": [
    "pd.DataFrame(\n",
    "    {'変換前': columns,\n",
    "     '変換後': le.transform(columns)})"
   ]
  },
  {
   "cell_type": "markdown",
   "metadata": {},
   "source": [
    "## 6.balance"
   ]
  },
  {
   "cell_type": "code",
   "execution_count": 22,
   "metadata": {},
   "outputs": [],
   "source": [
    "#収入がマイナスかどうかを表すフラグを作成\n",
    "def set_balance_flg(x):\n",
    "    if x < 0:\n",
    "        return 1\n",
    "    else:\n",
    "        return 0"
   ]
  },
  {
   "cell_type": "code",
   "execution_count": 23,
   "metadata": {},
   "outputs": [],
   "source": [
    "train_test[\"balance_minus_flg\"] = train_test[\"balance\"].apply(lambda x:set_balance_flg(x))\n",
    "train_test[\"balance\"] = np.clip(train_test[\"balance\"], train[\"balance\"].min(), train[\"balance\"].max())\n",
    "train = train_test.loc[train_test[\"y\"]!=-999]\n",
    "test = train_test.loc[train_test[\"y\"]==-999]"
   ]
  },
  {
   "cell_type": "raw",
   "metadata": {},
   "source": []
  },
  {
   "cell_type": "markdown",
   "metadata": {},
   "source": [
    "## 7.housing"
   ]
  },
  {
   "cell_type": "code",
   "execution_count": 24,
   "metadata": {},
   "outputs": [],
   "source": [
    "columns = train_test[\"housing\"].unique()\n",
    "le = LabelEncoder()\n",
    "encoded = le.fit_transform(train_test[\"housing\"].values)\n",
    "decoded = le.inverse_transform(encoded)\n",
    "train_test['housing'] = pd.to_numeric(encoded)\n",
    "train = train_test.loc[train_test[\"y\"]!=-999]\n",
    "test = train_test.loc[train_test[\"y\"]==-999]"
   ]
  },
  {
   "cell_type": "code",
   "execution_count": 25,
   "metadata": {},
   "outputs": [
    {
     "data": {
      "text/html": [
       "<div>\n",
       "<style scoped>\n",
       "    .dataframe tbody tr th:only-of-type {\n",
       "        vertical-align: middle;\n",
       "    }\n",
       "\n",
       "    .dataframe tbody tr th {\n",
       "        vertical-align: top;\n",
       "    }\n",
       "\n",
       "    .dataframe thead th {\n",
       "        text-align: right;\n",
       "    }\n",
       "</style>\n",
       "<table border=\"1\" class=\"dataframe\">\n",
       "  <thead>\n",
       "    <tr style=\"text-align: right;\">\n",
       "      <th></th>\n",
       "      <th>変換前</th>\n",
       "      <th>変換後</th>\n",
       "    </tr>\n",
       "  </thead>\n",
       "  <tbody>\n",
       "    <tr>\n",
       "      <th>0</th>\n",
       "      <td>yes</td>\n",
       "      <td>1</td>\n",
       "    </tr>\n",
       "    <tr>\n",
       "      <th>1</th>\n",
       "      <td>no</td>\n",
       "      <td>0</td>\n",
       "    </tr>\n",
       "  </tbody>\n",
       "</table>\n",
       "</div>"
      ],
      "text/plain": [
       "   変換前  変換後\n",
       "0  yes    1\n",
       "1   no    0"
      ]
     },
     "execution_count": 25,
     "metadata": {},
     "output_type": "execute_result"
    }
   ],
   "source": [
    "pd.DataFrame(\n",
    "    {'変換前': columns,\n",
    "     '変換後': le.transform(columns)})"
   ]
  },
  {
   "cell_type": "code",
   "execution_count": null,
   "metadata": {},
   "outputs": [],
   "source": []
  },
  {
   "cell_type": "markdown",
   "metadata": {},
   "source": [
    "## 8.loan\n"
   ]
  },
  {
   "cell_type": "code",
   "execution_count": 26,
   "metadata": {},
   "outputs": [],
   "source": [
    "columns = train_test[\"loan\"].unique()\n",
    "le = LabelEncoder()\n",
    "encoded = le.fit_transform(train_test[\"loan\"].values)\n",
    "decoded = le.inverse_transform(encoded)\n",
    "train_test['loan'] = pd.to_numeric(encoded)\n",
    "train = train_test.loc[train_test[\"y\"]!=-999]\n",
    "test = train_test.loc[train_test[\"y\"]==-999]"
   ]
  },
  {
   "cell_type": "code",
   "execution_count": 27,
   "metadata": {},
   "outputs": [
    {
     "data": {
      "text/html": [
       "<div>\n",
       "<style scoped>\n",
       "    .dataframe tbody tr th:only-of-type {\n",
       "        vertical-align: middle;\n",
       "    }\n",
       "\n",
       "    .dataframe tbody tr th {\n",
       "        vertical-align: top;\n",
       "    }\n",
       "\n",
       "    .dataframe thead th {\n",
       "        text-align: right;\n",
       "    }\n",
       "</style>\n",
       "<table border=\"1\" class=\"dataframe\">\n",
       "  <thead>\n",
       "    <tr style=\"text-align: right;\">\n",
       "      <th></th>\n",
       "      <th>変換前</th>\n",
       "      <th>変換後</th>\n",
       "    </tr>\n",
       "  </thead>\n",
       "  <tbody>\n",
       "    <tr>\n",
       "      <th>0</th>\n",
       "      <td>no</td>\n",
       "      <td>0</td>\n",
       "    </tr>\n",
       "    <tr>\n",
       "      <th>1</th>\n",
       "      <td>yes</td>\n",
       "      <td>1</td>\n",
       "    </tr>\n",
       "  </tbody>\n",
       "</table>\n",
       "</div>"
      ],
      "text/plain": [
       "   変換前  変換後\n",
       "0   no    0\n",
       "1  yes    1"
      ]
     },
     "execution_count": 27,
     "metadata": {},
     "output_type": "execute_result"
    }
   ],
   "source": [
    "pd.DataFrame(\n",
    "    {'変換前': columns,\n",
    "     '変換後': le.transform(columns)})"
   ]
  },
  {
   "cell_type": "markdown",
   "metadata": {},
   "source": [
    "## 9.contact"
   ]
  },
  {
   "cell_type": "code",
   "execution_count": 28,
   "metadata": {},
   "outputs": [],
   "source": [
    "train_test[\"con_unknown_flg\"] = train_test[\"contact\"].apply(lambda x:1 if x==\"unknown\" else 0)"
   ]
  },
  {
   "cell_type": "code",
   "execution_count": 29,
   "metadata": {},
   "outputs": [],
   "source": [
    "train_test[\"contact\"] = train_test[\"contact\"].map(pd.Series({\"unknown\":0,\"cellular\":1,\"telephone\":2}))\n",
    "train = train_test.loc[train_test[\"y\"]!=-999]\n",
    "test = train_test.loc[train_test[\"y\"]==-999]"
   ]
  },
  {
   "cell_type": "markdown",
   "metadata": {},
   "source": [
    "## 10.day"
   ]
  },
  {
   "cell_type": "code",
   "execution_count": 30,
   "metadata": {},
   "outputs": [],
   "source": [
    "#あとでまとめて標準化するので変更なし"
   ]
  },
  {
   "cell_type": "markdown",
   "metadata": {},
   "source": [
    "## 11.month"
   ]
  },
  {
   "cell_type": "code",
   "execution_count": 31,
   "metadata": {},
   "outputs": [
    {
     "data": {
      "text/plain": [
       "array(['nov', 'aug', 'may', 'apr', 'sep', 'jun', 'jul', 'feb', 'oct',\n",
       "       'jan', 'mar'], dtype=object)"
      ]
     },
     "execution_count": 31,
     "metadata": {},
     "output_type": "execute_result"
    }
   ],
   "source": [
    "train[\"month\"].unique()"
   ]
  },
  {
   "cell_type": "code",
   "execution_count": 32,
   "metadata": {},
   "outputs": [
    {
     "data": {
      "text/plain": [
       "array(['feb', 'jul', 'may', 'jan', 'jun', 'aug', 'apr', 'sep', 'nov',\n",
       "       'oct', 'mar'], dtype=object)"
      ]
     },
     "execution_count": 32,
     "metadata": {},
     "output_type": "execute_result"
    }
   ],
   "source": [
    "test[\"month\"].unique()"
   ]
  },
  {
   "cell_type": "code",
   "execution_count": 33,
   "metadata": {},
   "outputs": [],
   "source": [
    "#月を表す文字列を数値に変更\n",
    "def get_intmonth(x):\n",
    "    if x == \"jan\":\n",
    "        x = 1\n",
    "    elif x == \"feb\":\n",
    "        x = 2\n",
    "    elif x == \"mar\":\n",
    "        x = 3\n",
    "    elif x == \"apr\":\n",
    "        x = 4\n",
    "    elif x == \"may\":\n",
    "        x = 5\n",
    "    elif x == \"jun\":\n",
    "        x = 6\n",
    "    elif x == \"jul\":\n",
    "        x = 7\n",
    "    elif x == \"aug\":\n",
    "        x = 8\n",
    "    elif x == \"sep\":\n",
    "        x = 9\n",
    "    elif x == \"oct\":\n",
    "        x = 10\n",
    "    elif x == \"nov\":\n",
    "        x = 11\n",
    "    elif x == \"dec\":\n",
    "        x = 12\n",
    "    \n",
    "    return x"
   ]
  },
  {
   "cell_type": "code",
   "execution_count": 34,
   "metadata": {},
   "outputs": [],
   "source": [
    "train_test[\"month\"] = train_test[\"month\"].apply(lambda x:get_intmonth(x))\n",
    "train = train_test.loc[train_test[\"y\"]!=-999]\n",
    "test = train_test.loc[train_test[\"y\"]==-999]"
   ]
  },
  {
   "cell_type": "code",
   "execution_count": 35,
   "metadata": {},
   "outputs": [],
   "source": [
    "train_test[\"month+day\"] = train_test[\"month\"].astype(str) + train_test[\"day\"].astype(str)\n",
    "train_test[\"month+day\"] = train_test[\"month+day\"].astype(int)\n",
    "train = train_test.loc[train_test[\"y\"]!=-999]\n",
    "test = train_test.loc[train_test[\"y\"]==-999]"
   ]
  },
  {
   "cell_type": "markdown",
   "metadata": {},
   "source": [
    "## 12.duration"
   ]
  },
  {
   "cell_type": "code",
   "execution_count": 36,
   "metadata": {},
   "outputs": [],
   "source": [
    "#連絡をとった時間が０秒かどうかのフラグを作成\n",
    "def set_duration_flg(x):\n",
    "    if x == 0:\n",
    "        return 1\n",
    "    else:\n",
    "        return 0"
   ]
  },
  {
   "cell_type": "code",
   "execution_count": 37,
   "metadata": {},
   "outputs": [],
   "source": [
    "train_test[\"duration_zero_flg\"] = train_test[\"duration\"].apply(lambda x:set_duration_flg(x))\n",
    "train = train_test.loc[train_test[\"y\"]!=-999]\n",
    "test = train_test.loc[train_test[\"y\"]==-999]"
   ]
  },
  {
   "cell_type": "markdown",
   "metadata": {},
   "source": [
    "## 13.campaign"
   ]
  },
  {
   "cell_type": "code",
   "execution_count": 38,
   "metadata": {},
   "outputs": [],
   "source": [
    "#campaignが５のデータは１つしかないため、値を４に変更する\n",
    "train_test.loc[train_test[\"campaign\"]==5,\"campaign\"] = 4"
   ]
  },
  {
   "cell_type": "code",
   "execution_count": 39,
   "metadata": {},
   "outputs": [],
   "source": [
    "#label encoding\n",
    "train_test[\"campaign\"] = train_test[\"campaign\"].map(pd.Series({1:4,2:3,3:2,4:1}))\n",
    "\n",
    "#ラベルエンコーディングの方が精度が良かったので変更\n",
    "#freq encoding\n",
    "#train_test[\"campaign\"] = train_test[\"campaign\"].map(train_test[\"campaign\"].value_counts())\n",
    "\n",
    "train = train_test.loc[train_test[\"y\"]!=-999]\n",
    "test = train_test.loc[train_test[\"y\"]==-999]"
   ]
  },
  {
   "cell_type": "markdown",
   "metadata": {},
   "source": [
    "## 14.pdays"
   ]
  },
  {
   "cell_type": "code",
   "execution_count": 40,
   "metadata": {},
   "outputs": [],
   "source": [
    "#最後に連絡をとった日からの経過日数がマイナス(おそらく欠損値)を表すフラグを作成\n",
    "def set_pdays_flg(x):\n",
    "    if x == -1:\n",
    "        return 0\n",
    "    else:\n",
    "        return 1"
   ]
  },
  {
   "cell_type": "code",
   "execution_count": 41,
   "metadata": {},
   "outputs": [],
   "source": [
    "train_test[\"pdays_flg\"] = train_test[\"pdays\"].apply(lambda x:set_pdays_flg(x))\n",
    "train = train_test.loc[train_test[\"y\"]!=-999]\n",
    "test = train_test.loc[train_test[\"y\"]==-999]"
   ]
  },
  {
   "cell_type": "code",
   "execution_count": null,
   "metadata": {},
   "outputs": [],
   "source": []
  },
  {
   "cell_type": "markdown",
   "metadata": {},
   "source": [
    "## 15.previous"
   ]
  },
  {
   "cell_type": "code",
   "execution_count": 42,
   "metadata": {},
   "outputs": [],
   "source": [
    "#変更なし"
   ]
  },
  {
   "cell_type": "code",
   "execution_count": null,
   "metadata": {},
   "outputs": [],
   "source": []
  },
  {
   "cell_type": "markdown",
   "metadata": {},
   "source": [
    "## 16.poutcome"
   ]
  },
  {
   "cell_type": "code",
   "execution_count": 43,
   "metadata": {},
   "outputs": [],
   "source": [
    "#欠損値にも意味があると考えたため、欠損値であることを表すフラグを作成\n",
    "train_test[\"pou_unknown_flg\"] = train_test[\"poutcome\"].apply(lambda x:1 if x==\"unknown\" else 0)"
   ]
  },
  {
   "cell_type": "code",
   "execution_count": 44,
   "metadata": {},
   "outputs": [],
   "source": [
    "train_test[\"poutcome\"] = train_test[\"poutcome\"].map(pd.Series({\"success\":0,\"failure\":1,\"other\":2,\"unknown\":3}))\n",
    "train = train_test.loc[train_test[\"y\"]!=-999]\n",
    "test = train_test.loc[train_test[\"y\"]==-999]"
   ]
  },
  {
   "cell_type": "markdown",
   "metadata": {},
   "source": [
    "## ダミー変数化、標準化"
   ]
  },
  {
   "cell_type": "code",
   "execution_count": 45,
   "metadata": {},
   "outputs": [],
   "source": [
    "from sklearn.preprocessing import StandardScaler"
   ]
  },
  {
   "cell_type": "code",
   "execution_count": 46,
   "metadata": {},
   "outputs": [],
   "source": [
    "sc = StandardScaler()"
   ]
  },
  {
   "cell_type": "code",
   "execution_count": 47,
   "metadata": {},
   "outputs": [],
   "source": [
    "#duration,pdaysは欠損値予測をするため別で処理する\n",
    "num_columns = [\"age\",\"balance\",\"day\",\"month+day\"]"
   ]
  },
  {
   "cell_type": "code",
   "execution_count": 48,
   "metadata": {},
   "outputs": [],
   "source": [
    "sc.fit(train_test[num_columns])\n",
    "df_num = pd.DataFrame(sc.transform(train_test[num_columns]),columns = num_columns)"
   ]
  },
  {
   "cell_type": "code",
   "execution_count": 49,
   "metadata": {},
   "outputs": [],
   "source": [
    "#sns.distplot((df_num[\"education\"]))"
   ]
  },
  {
   "cell_type": "code",
   "execution_count": 50,
   "metadata": {},
   "outputs": [],
   "source": [
    "train_test = train_test.drop(num_columns,axis=1)\n",
    "train_test = pd.concat([train_test.reset_index(drop=True),df_num],axis=1)"
   ]
  },
  {
   "cell_type": "code",
   "execution_count": 51,
   "metadata": {},
   "outputs": [],
   "source": [
    "train_test.loc[train_test[\"duration\"]==0,\"duration\"] = -999\n",
    "train_test.loc[train_test[\"pdays\"]==-1,\"pdays\"] = -999"
   ]
  },
  {
   "cell_type": "code",
   "execution_count": 52,
   "metadata": {},
   "outputs": [],
   "source": [
    "#duration,pdaysは欠損値があるので、欠損値を除いたデータを標準化\n",
    "duration_index = train_test.loc[train_test[\"duration\"]!=-999,\"duration\"].index.values\n",
    "pdays_index = train_test.loc[train_test[\"pdays\"]!=-999,\"pdays\"].index.values"
   ]
  },
  {
   "cell_type": "code",
   "execution_count": null,
   "metadata": {},
   "outputs": [],
   "source": []
  },
  {
   "cell_type": "code",
   "execution_count": 53,
   "metadata": {},
   "outputs": [],
   "source": [
    "sc = StandardScaler()\n",
    "train_test.loc[duration_index,\"duration\"]\n",
    "sc.fit(pd.DataFrame(train_test.loc[duration_index,\"duration\"]))\n",
    "tmp_duration = pd.DataFrame(sc.transform(pd.DataFrame(train_test.loc[duration_index,\"duration\"]))\n",
    "                            ,index=duration_index,columns=[\"duration_sc\"])\n",
    "train_test = train_test.drop(\"duration\",axis=1)\n",
    "train_test = pd.concat([train_test,tmp_duration],axis=1)"
   ]
  },
  {
   "cell_type": "code",
   "execution_count": 54,
   "metadata": {},
   "outputs": [],
   "source": [
    "sc = StandardScaler()\n",
    "train_test.loc[pdays_index,\"pdays\"]\n",
    "sc.fit(pd.DataFrame(train_test.loc[pdays_index,\"pdays\"]))\n",
    "tmp_pdays = pd.DataFrame(sc.transform(pd.DataFrame(train_test.loc[pdays_index,\"pdays\"]))\n",
    "                            ,index=pdays_index,columns=[\"pdays_sc\"])\n",
    "train_test = train_test.drop(\"pdays\",axis=1)\n",
    "train_test = pd.concat([train_test,tmp_pdays],axis=1)"
   ]
  },
  {
   "cell_type": "code",
   "execution_count": 55,
   "metadata": {},
   "outputs": [],
   "source": [
    "train = train_test.loc[train_test[\"y\"]!=-999]\n",
    "test = train_test.loc[train_test[\"y\"]==-999]"
   ]
  },
  {
   "cell_type": "code",
   "execution_count": 56,
   "metadata": {},
   "outputs": [],
   "source": [
    "test = test.drop(\"y\",axis=1)"
   ]
  },
  {
   "cell_type": "code",
   "execution_count": 57,
   "metadata": {},
   "outputs": [
    {
     "name": "stdout",
     "output_type": "stream",
     "text": [
      "<class 'pandas.core.frame.DataFrame'>\n",
      "Int64Index: 27100 entries, 0 to 27099\n",
      "Data columns (total 25 columns):\n",
      " #   Column             Non-Null Count  Dtype  \n",
      "---  ------             --------------  -----  \n",
      " 0   id                 27100 non-null  int64  \n",
      " 1   job                27100 non-null  int64  \n",
      " 2   marital            27100 non-null  int64  \n",
      " 3   education          27100 non-null  int64  \n",
      " 4   default            27100 non-null  int64  \n",
      " 5   housing            27100 non-null  int64  \n",
      " 6   loan               27100 non-null  int64  \n",
      " 7   contact            27100 non-null  int64  \n",
      " 8   month              27100 non-null  int64  \n",
      " 9   campaign           27100 non-null  int64  \n",
      " 10  previous           27100 non-null  int64  \n",
      " 11  poutcome           27100 non-null  int64  \n",
      " 12  y                  27100 non-null  float64\n",
      " 13  edu_unknown_flg    27100 non-null  int64  \n",
      " 14  balance_minus_flg  27100 non-null  int64  \n",
      " 15  con_unknown_flg    27100 non-null  int64  \n",
      " 16  duration_zero_flg  27100 non-null  int64  \n",
      " 17  pdays_flg          27100 non-null  int64  \n",
      " 18  pou_unknown_flg    27100 non-null  int64  \n",
      " 19  age                27100 non-null  float64\n",
      " 20  balance            27100 non-null  float64\n",
      " 21  day                27100 non-null  float64\n",
      " 22  month+day          27100 non-null  float64\n",
      " 23  duration_sc        27086 non-null  float64\n",
      " 24  pdays_sc           27070 non-null  float64\n",
      "dtypes: float64(7), int64(18)\n",
      "memory usage: 5.4 MB\n"
     ]
    }
   ],
   "source": [
    "train.info()"
   ]
  },
  {
   "cell_type": "code",
   "execution_count": 58,
   "metadata": {},
   "outputs": [
    {
     "name": "stdout",
     "output_type": "stream",
     "text": [
      "<class 'pandas.core.frame.DataFrame'>\n",
      "Int64Index: 18050 entries, 27100 to 45149\n",
      "Data columns (total 24 columns):\n",
      " #   Column             Non-Null Count  Dtype  \n",
      "---  ------             --------------  -----  \n",
      " 0   id                 18050 non-null  int64  \n",
      " 1   job                18050 non-null  int64  \n",
      " 2   marital            18050 non-null  int64  \n",
      " 3   education          18050 non-null  int64  \n",
      " 4   default            18050 non-null  int64  \n",
      " 5   housing            18050 non-null  int64  \n",
      " 6   loan               18050 non-null  int64  \n",
      " 7   contact            18050 non-null  int64  \n",
      " 8   month              18050 non-null  int64  \n",
      " 9   campaign           18050 non-null  int64  \n",
      " 10  previous           18050 non-null  int64  \n",
      " 11  poutcome           18050 non-null  int64  \n",
      " 12  edu_unknown_flg    18050 non-null  int64  \n",
      " 13  balance_minus_flg  18050 non-null  int64  \n",
      " 14  con_unknown_flg    18050 non-null  int64  \n",
      " 15  duration_zero_flg  18050 non-null  int64  \n",
      " 16  pdays_flg          18050 non-null  int64  \n",
      " 17  pou_unknown_flg    18050 non-null  int64  \n",
      " 18  age                18050 non-null  float64\n",
      " 19  balance            18050 non-null  float64\n",
      " 20  day                18050 non-null  float64\n",
      " 21  month+day          18050 non-null  float64\n",
      " 22  duration_sc        18041 non-null  float64\n",
      " 23  pdays_sc           18028 non-null  float64\n",
      "dtypes: float64(6), int64(18)\n",
      "memory usage: 3.4 MB\n"
     ]
    }
   ],
   "source": [
    "test.info()"
   ]
  },
  {
   "cell_type": "code",
   "execution_count": 59,
   "metadata": {},
   "outputs": [],
   "source": [
    "#決定木用のデータ\n",
    "train.to_csv(\"../../data/signate-bankcustomer/train_fixed.csv\",index=False)\n",
    "test.to_csv(\"../../data/signate-bankcustomer/test_fixed.csv\",index=False)"
   ]
  },
  {
   "cell_type": "code",
   "execution_count": 60,
   "metadata": {},
   "outputs": [],
   "source": [
    "#線形モデル用にカテゴリ変数をダミー変数にしたデータを作成\n",
    "#poutcomeは欠損値予測をするため別で処理する\n",
    "cat_columns = [\"job\",\"marital\",\"contact\",\"campaign\",\"previous\",\"month\",\"education\"]"
   ]
  },
  {
   "cell_type": "code",
   "execution_count": 61,
   "metadata": {},
   "outputs": [],
   "source": [
    "for column in cat_columns:\n",
    "    tmp = pd.get_dummies(train_test[column].astype(str),drop_first=True,prefix=column)\n",
    "    train_test = train_test.drop(column,axis=1)\n",
    "    train_test = pd.concat([train_test,tmp],axis=1)\n"
   ]
  },
  {
   "cell_type": "code",
   "execution_count": 62,
   "metadata": {},
   "outputs": [],
   "source": [
    "train = train_test.loc[train_test[\"y\"]!=-999]\n",
    "test = train_test.loc[train_test[\"y\"]==-999]"
   ]
  },
  {
   "cell_type": "code",
   "execution_count": 63,
   "metadata": {},
   "outputs": [],
   "source": [
    "test = test.drop(\"y\",axis=1)"
   ]
  },
  {
   "cell_type": "code",
   "execution_count": 64,
   "metadata": {},
   "outputs": [
    {
     "name": "stdout",
     "output_type": "stream",
     "text": [
      "<class 'pandas.core.frame.DataFrame'>\n",
      "Int64Index: 27100 entries, 0 to 27099\n",
      "Data columns (total 51 columns):\n",
      " #   Column             Non-Null Count  Dtype  \n",
      "---  ------             --------------  -----  \n",
      " 0   id                 27100 non-null  int64  \n",
      " 1   default            27100 non-null  int64  \n",
      " 2   housing            27100 non-null  int64  \n",
      " 3   loan               27100 non-null  int64  \n",
      " 4   poutcome           27100 non-null  int64  \n",
      " 5   y                  27100 non-null  float64\n",
      " 6   edu_unknown_flg    27100 non-null  int64  \n",
      " 7   balance_minus_flg  27100 non-null  int64  \n",
      " 8   con_unknown_flg    27100 non-null  int64  \n",
      " 9   duration_zero_flg  27100 non-null  int64  \n",
      " 10  pdays_flg          27100 non-null  int64  \n",
      " 11  pou_unknown_flg    27100 non-null  int64  \n",
      " 12  age                27100 non-null  float64\n",
      " 13  balance            27100 non-null  float64\n",
      " 14  day                27100 non-null  float64\n",
      " 15  month+day          27100 non-null  float64\n",
      " 16  duration_sc        27086 non-null  float64\n",
      " 17  pdays_sc           27070 non-null  float64\n",
      " 18  job_1250           27100 non-null  uint8  \n",
      " 19  job_1306           27100 non-null  uint8  \n",
      " 20  job_1661           27100 non-null  uint8  \n",
      " 21  job_1884           27100 non-null  uint8  \n",
      " 22  job_1890           27100 non-null  uint8  \n",
      " 23  job_4192           27100 non-null  uint8  \n",
      " 24  job_5339           27100 non-null  uint8  \n",
      " 25  job_583            27100 non-null  uint8  \n",
      " 26  job_8128           27100 non-null  uint8  \n",
      " 27  job_8873           27100 non-null  uint8  \n",
      " 28  marital_1          27100 non-null  uint8  \n",
      " 29  marital_2          27100 non-null  uint8  \n",
      " 30  contact_1          27100 non-null  uint8  \n",
      " 31  contact_2          27100 non-null  uint8  \n",
      " 32  campaign_2         27100 non-null  uint8  \n",
      " 33  campaign_3         27100 non-null  uint8  \n",
      " 34  campaign_4         27100 non-null  uint8  \n",
      " 35  previous_1         27100 non-null  uint8  \n",
      " 36  previous_2         27100 non-null  uint8  \n",
      " 37  previous_3         27100 non-null  uint8  \n",
      " 38  month_10           27100 non-null  uint8  \n",
      " 39  month_11           27100 non-null  uint8  \n",
      " 40  month_2            27100 non-null  uint8  \n",
      " 41  month_3            27100 non-null  uint8  \n",
      " 42  month_4            27100 non-null  uint8  \n",
      " 43  month_5            27100 non-null  uint8  \n",
      " 44  month_6            27100 non-null  uint8  \n",
      " 45  month_7            27100 non-null  uint8  \n",
      " 46  month_8            27100 non-null  uint8  \n",
      " 47  month_9            27100 non-null  uint8  \n",
      " 48  education_1771     27100 non-null  uint8  \n",
      " 49  education_26754    27100 non-null  uint8  \n",
      " 50  education_5560     27100 non-null  uint8  \n",
      "dtypes: float64(7), int64(11), uint8(33)\n",
      "memory usage: 4.8 MB\n"
     ]
    }
   ],
   "source": [
    "train.info()"
   ]
  },
  {
   "cell_type": "code",
   "execution_count": 65,
   "metadata": {},
   "outputs": [
    {
     "name": "stdout",
     "output_type": "stream",
     "text": [
      "<class 'pandas.core.frame.DataFrame'>\n",
      "Int64Index: 18050 entries, 27100 to 45149\n",
      "Data columns (total 50 columns):\n",
      " #   Column             Non-Null Count  Dtype  \n",
      "---  ------             --------------  -----  \n",
      " 0   id                 18050 non-null  int64  \n",
      " 1   default            18050 non-null  int64  \n",
      " 2   housing            18050 non-null  int64  \n",
      " 3   loan               18050 non-null  int64  \n",
      " 4   poutcome           18050 non-null  int64  \n",
      " 5   edu_unknown_flg    18050 non-null  int64  \n",
      " 6   balance_minus_flg  18050 non-null  int64  \n",
      " 7   con_unknown_flg    18050 non-null  int64  \n",
      " 8   duration_zero_flg  18050 non-null  int64  \n",
      " 9   pdays_flg          18050 non-null  int64  \n",
      " 10  pou_unknown_flg    18050 non-null  int64  \n",
      " 11  age                18050 non-null  float64\n",
      " 12  balance            18050 non-null  float64\n",
      " 13  day                18050 non-null  float64\n",
      " 14  month+day          18050 non-null  float64\n",
      " 15  duration_sc        18041 non-null  float64\n",
      " 16  pdays_sc           18028 non-null  float64\n",
      " 17  job_1250           18050 non-null  uint8  \n",
      " 18  job_1306           18050 non-null  uint8  \n",
      " 19  job_1661           18050 non-null  uint8  \n",
      " 20  job_1884           18050 non-null  uint8  \n",
      " 21  job_1890           18050 non-null  uint8  \n",
      " 22  job_4192           18050 non-null  uint8  \n",
      " 23  job_5339           18050 non-null  uint8  \n",
      " 24  job_583            18050 non-null  uint8  \n",
      " 25  job_8128           18050 non-null  uint8  \n",
      " 26  job_8873           18050 non-null  uint8  \n",
      " 27  marital_1          18050 non-null  uint8  \n",
      " 28  marital_2          18050 non-null  uint8  \n",
      " 29  contact_1          18050 non-null  uint8  \n",
      " 30  contact_2          18050 non-null  uint8  \n",
      " 31  campaign_2         18050 non-null  uint8  \n",
      " 32  campaign_3         18050 non-null  uint8  \n",
      " 33  campaign_4         18050 non-null  uint8  \n",
      " 34  previous_1         18050 non-null  uint8  \n",
      " 35  previous_2         18050 non-null  uint8  \n",
      " 36  previous_3         18050 non-null  uint8  \n",
      " 37  month_10           18050 non-null  uint8  \n",
      " 38  month_11           18050 non-null  uint8  \n",
      " 39  month_2            18050 non-null  uint8  \n",
      " 40  month_3            18050 non-null  uint8  \n",
      " 41  month_4            18050 non-null  uint8  \n",
      " 42  month_5            18050 non-null  uint8  \n",
      " 43  month_6            18050 non-null  uint8  \n",
      " 44  month_7            18050 non-null  uint8  \n",
      " 45  month_8            18050 non-null  uint8  \n",
      " 46  month_9            18050 non-null  uint8  \n",
      " 47  education_1771     18050 non-null  uint8  \n",
      " 48  education_26754    18050 non-null  uint8  \n",
      " 49  education_5560     18050 non-null  uint8  \n",
      "dtypes: float64(6), int64(11), uint8(33)\n",
      "memory usage: 3.0 MB\n"
     ]
    }
   ],
   "source": [
    "test.info()"
   ]
  },
  {
   "cell_type": "code",
   "execution_count": null,
   "metadata": {},
   "outputs": [],
   "source": []
  },
  {
   "cell_type": "code",
   "execution_count": 66,
   "metadata": {},
   "outputs": [],
   "source": [
    "train.to_csv(\"../../data/signate-bankcustomer/train_fixed_dummies.csv\",index=False)\n",
    "test.to_csv(\"../../data/signate-bankcustomer/test_fixed_dummies.csv\",index=False)"
   ]
  },
  {
   "cell_type": "code",
   "execution_count": null,
   "metadata": {},
   "outputs": [],
   "source": []
  }
 ],
 "metadata": {
  "kernelspec": {
   "display_name": "Python 3",
   "language": "python",
   "name": "python3"
  },
  "language_info": {
   "codemirror_mode": {
    "name": "ipython",
    "version": 3
   },
   "file_extension": ".py",
   "mimetype": "text/x-python",
   "name": "python",
   "nbconvert_exporter": "python",
   "pygments_lexer": "ipython3",
   "version": "3.8.3"
  }
 },
 "nbformat": 4,
 "nbformat_minor": 4
}
